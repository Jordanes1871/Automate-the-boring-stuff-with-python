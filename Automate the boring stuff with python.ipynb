{
 "cells": [
  {
   "cell_type": "markdown",
   "metadata": {},
   "source": [
    "# AUTOMATE THE BORING STUFF WITH PYTHON"
   ]
  },
  {
   "cell_type": "markdown",
   "metadata": {},
   "source": [
    "## Part 1 - Python Programming Basics"
   ]
  },
  {
   "cell_type": "code",
   "execution_count": 4,
   "metadata": {},
   "outputs": [
    {
     "name": "stdout",
     "output_type": "stream",
     "text": [
      "Hello, world!\n",
      "What is your name?\n",
      "It is good to meet you, jordan\n",
      "The length of your name is:\n",
      "6\n",
      "What is your age?\n",
      "You will be 32 in a year.\n"
     ]
    }
   ],
   "source": [
    "# interactive \n",
    "\n",
    "# This program says hello and asks for my name.\n",
    "print('Hello, world!')\n",
    "print('What is your name?') # ask for their name\n",
    "myName = input(\"what is your name\") # user types some text\n",
    "print('It is good to meet you, ' + myName)\n",
    "print('The length of your name is:')\n",
    "print(len(myName)) \n",
    "print('What is your age?') # ask for their age\n",
    "myAge = input(\"What is your age?\")\n",
    "print('You will be ' + str(int(myAge) + 1) + ' in a year.')"
   ]
  },
  {
   "cell_type": "markdown",
   "metadata": {},
   "source": [
    "## Practice Questions"
   ]
  },
  {
   "cell_type": "markdown",
   "metadata": {},
   "source": [
    "1. Which of the following are operators, and which are values? "
   ]
  },
  {
   "cell_type": "markdown",
   "metadata": {},
   "source": [
    "value = 'hello', -88.8, 5\n",
    "operator = *, -, /, + "
   ]
  },
  {
   "cell_type": "markdown",
   "metadata": {},
   "source": [
    "2. Which of the following is a variable, and which is a string?"
   ]
  },
  {
   "cell_type": "markdown",
   "metadata": {},
   "source": [
    "spam = variable, 'spam' = string"
   ]
  },
  {
   "cell_type": "markdown",
   "metadata": {},
   "source": [
    "3. Name three data types."
   ]
  },
  {
   "cell_type": "markdown",
   "metadata": {},
   "source": [
    "string, float, integer"
   ]
  },
  {
   "cell_type": "markdown",
   "metadata": {},
   "source": [
    "4. What is an expression made up of? What do all expressions do?"
   ]
  },
  {
   "cell_type": "markdown",
   "metadata": {},
   "source": [
    "An expression is a combination of values and operators. All expressions evaluate (that is, reduce) to a single value."
   ]
  },
  {
   "cell_type": "markdown",
   "metadata": {},
   "source": [
    "5. This chapter introduced assignment statements, like spam = 10. What is\n",
    "the difference between an expression and a statement?"
   ]
  },
  {
   "cell_type": "markdown",
   "metadata": {},
   "source": [
    "An expression evaluates to a single value. A statement does not."
   ]
  },
  {
   "cell_type": "markdown",
   "metadata": {},
   "source": [
    "6. What does the variable bacon contain after the following code runs?"
   ]
  },
  {
   "cell_type": "markdown",
   "metadata": {},
   "source": [
    "bacon = 20\n",
    "bacon + 1\n",
    "would need to assignment to make it work like bacon = bacon+1"
   ]
  },
  {
   "cell_type": "markdown",
   "metadata": {},
   "source": [
    "7. What should the following two expressions evaluate to?"
   ]
  },
  {
   "cell_type": "markdown",
   "metadata": {},
   "source": [
    "'spam' + 'spamspam' = 'spamspamspam'\n",
    "'spam' * 3 = 'spamspamspam'"
   ]
  },
  {
   "cell_type": "markdown",
   "metadata": {},
   "source": [
    "8. Why is eggs a valid variable name while 100 is invalid?"
   ]
  },
  {
   "cell_type": "markdown",
   "metadata": {},
   "source": [
    "variable name can't start with a number"
   ]
  },
  {
   "cell_type": "markdown",
   "metadata": {},
   "source": [
    "9. What three functions can be used to get the integer, floating-point number, or string version of a value?"
   ]
  },
  {
   "cell_type": "markdown",
   "metadata": {},
   "source": [
    "int(), float(), str()"
   ]
  },
  {
   "cell_type": "markdown",
   "metadata": {},
   "source": [
    "10. Why does this expression cause an error? How can you fix it?"
   ]
  },
  {
   "cell_type": "code",
   "execution_count": 3,
   "metadata": {},
   "outputs": [
    {
     "ename": "TypeError",
     "evalue": "can only concatenate str (not \"int\") to str",
     "output_type": "error",
     "traceback": [
      "\u001b[0;31m---------------------------------------------------------------------------\u001b[0m",
      "\u001b[0;31mTypeError\u001b[0m                                 Traceback (most recent call last)",
      "\u001b[1;32m/Users/jordanstevens/Documents/Python/Basics - variables, data types, loops, functions, modules/Automate the boring stuff with python.ipynb Cell 28\u001b[0m line \u001b[0;36m1\n\u001b[0;32m----> <a href='vscode-notebook-cell:/Users/jordanstevens/Documents/Python/Basics%20-%20variables%2C%20data%20types%2C%20loops%2C%20functions%2C%20modules/Automate%20the%20boring%20stuff%20with%20python.ipynb#X36sZmlsZQ%3D%3D?line=0'>1</a>\u001b[0m \u001b[39m'\u001b[39;49m\u001b[39mI have eaten \u001b[39;49m\u001b[39m'\u001b[39;49m \u001b[39m+\u001b[39;49m \u001b[39m99\u001b[39;49m \u001b[39m+\u001b[39m \u001b[39m'\u001b[39m\u001b[39m burritos.\u001b[39m\u001b[39m'\u001b[39m\n",
      "\u001b[0;31mTypeError\u001b[0m: can only concatenate str (not \"int\") to str"
     ]
    }
   ],
   "source": [
    "'I have eaten ' + 99 + ' burritos.'"
   ]
  },
  {
   "cell_type": "markdown",
   "metadata": {},
   "source": [
    "can only concatinate a string not number "
   ]
  },
  {
   "cell_type": "code",
   "execution_count": 4,
   "metadata": {},
   "outputs": [
    {
     "data": {
      "text/plain": [
       "'I have eaten 99 burritos.'"
      ]
     },
     "execution_count": 4,
     "metadata": {},
     "output_type": "execute_result"
    }
   ],
   "source": [
    "'I have eaten ' + str(99) + ' burritos.'"
   ]
  },
  {
   "cell_type": "markdown",
   "metadata": {},
   "source": [
    "## Part 2  - Flow Control"
   ]
  },
  {
   "cell_type": "code",
   "execution_count": null,
   "metadata": {},
   "outputs": [],
   "source": [
    "# == ask whether 2 values are the same\n",
    "# = is the assignment operator i.e. Jordan = Male"
   ]
  },
  {
   "cell_type": "code",
   "execution_count": null,
   "metadata": {},
   "outputs": [],
   "source": [
    "True and True\n"
   ]
  },
  {
   "cell_type": "code",
   "execution_count": null,
   "metadata": {},
   "outputs": [],
   "source": [
    "True and False\n"
   ]
  },
  {
   "cell_type": "code",
   "execution_count": null,
   "metadata": {},
   "outputs": [],
   "source": [
    "True or True"
   ]
  },
  {
   "cell_type": "code",
   "execution_count": null,
   "metadata": {},
   "outputs": [],
   "source": [
    "not True"
   ]
  },
  {
   "cell_type": "code",
   "execution_count": 5,
   "metadata": {},
   "outputs": [
    {
     "data": {
      "text/plain": [
       "True"
      ]
     },
     "execution_count": 5,
     "metadata": {},
     "output_type": "execute_result"
    }
   ],
   "source": [
    "(4<5) and (5<6)"
   ]
  },
  {
   "cell_type": "code",
   "execution_count": 7,
   "metadata": {},
   "outputs": [
    {
     "name": "stdout",
     "output_type": "stream",
     "text": [
      "is it raining?\n",
      "go outside\n"
     ]
    }
   ],
   "source": [
    "# flow control statement\n",
    "# start > is raining > no > go outside > end\n",
    "# start > is raining > yes > got umbrella > no > wait > is raining > no > go outside > end\n",
    "# start > is raining > yes > got umbrella > no > wait > is raining > yes > wait > is raining > no > go outside > end\n",
    "# start > is raining > yes > got umbrella > yes > go outside > end\n",
    "\n",
    "while True:\n",
    "    print(\"is it raining?\")\n",
    "    is_raining = input()\n",
    "    if is_raining == \"no\":\n",
    "        break # exit loop go outside\n",
    "    elif is_raining == \"yes\":\n",
    "        print(\"do you have an umbrella?\")\n",
    "        have_umbrella = input()\n",
    "        if have_umbrella == \"yes\":\n",
    "            break # exit loop go outside\n",
    "        else:\n",
    "            while True: # create another loop because if its still raining you have to wait\n",
    "                print(\"wait a while...\")\n",
    "                print(\"is it still raining?\")\n",
    "                still_raining = input()\n",
    "                if still_raining == \"yes\":\n",
    "                    continue # if still raining continue i.e. wait a whil..\n",
    "                else:\n",
    "                    break # exit loop go outside\n",
    "print(\"go outside\")"
   ]
  },
  {
   "cell_type": "code",
   "execution_count": 9,
   "metadata": {},
   "outputs": [
    {
     "name": "stdout",
     "output_type": "stream",
     "text": [
      "hello, Jordan\n",
      "Access Granted\n"
     ]
    }
   ],
   "source": [
    "name = 'Jordan'\n",
    "password = 'muffin'\n",
    "if name == 'Jordan':\n",
    "    print('hello, Jordan')\n",
    "    if password == 'muffin':\n",
    "        print('Access Granted')\n",
    "    else:\n",
    "        print('Wrong Password')"
   ]
  },
  {
   "cell_type": "code",
   "execution_count": 8,
   "metadata": {},
   "outputs": [
    {
     "name": "stdout",
     "output_type": "stream",
     "text": [
      "hello, mark!\n"
     ]
    }
   ],
   "source": [
    "name = 'mark'\n",
    "if name == 'Jordan':\n",
    "    print('hello, Jordan')\n",
    "elif name == 'mark':\n",
    "    print('hello, mark!')"
   ]
  },
  {
   "cell_type": "code",
   "execution_count": null,
   "metadata": {},
   "outputs": [],
   "source": [
    "name = 'Carol'\n",
    "age = 3000\n",
    "if name == 'Alice':\n",
    "    print('Hi, Alice.')\n",
    "elif age < 12:\n",
    "    print('You are not Alice, kiddo.')\n",
    "elif age > 2000:\n",
    "     print('Unlike you, Alice is not an undead, immortal vampire.')\n",
    "elif age > 100:\n",
    "    print('You are not Alice, grannie.')"
   ]
  },
  {
   "cell_type": "code",
   "execution_count": null,
   "metadata": {},
   "outputs": [],
   "source": [
    "name = 'Carol'\n",
    "age = 3000\n",
    "if name == 'Alice':\n",
    "    print('Hi, Alice.')\n",
    "elif age < 12:\n",
    "    print('You are not Alice, kiddo.')  \n",
    "elif age > 100:\n",
    "    print('You are not Alice, grannie.') #execcutes here as meets this condition first\n",
    "elif age > 2000:\n",
    "    print('Unlike you, Alice is not an undead, immortal vampire.')"
   ]
  },
  {
   "cell_type": "code",
   "execution_count": null,
   "metadata": {},
   "outputs": [],
   "source": [
    "name = 'Carol'\n",
    "age = 3000\n",
    "if name == 'Alice':\n",
    "     print('Hi, Alice.')\n",
    "elif age < 12:\n",
    "     print('You are not Alice, kiddo.')\n",
    "else:\n",
    "     print('You are neither Alice nor a little kid.')"
   ]
  },
  {
   "cell_type": "code",
   "execution_count": null,
   "metadata": {},
   "outputs": [],
   "source": [
    "spam = 0\n",
    "while spam < 5:\n",
    "    print('Hello, world.')\n",
    "    spam = spam + 1"
   ]
  },
  {
   "cell_type": "code",
   "execution_count": null,
   "metadata": {},
   "outputs": [],
   "source": [
    "# never ending while loop\n",
    "name = ''\n",
    "while name != 'your name':\n",
    "    print('Please type your name.') \n",
    "    name = input()\n",
    "print('Thank you!')"
   ]
  },
  {
   "cell_type": "code",
   "execution_count": null,
   "metadata": {},
   "outputs": [],
   "source": [
    "#There is a shortcut to getting the program execution to break out of a while loop’s clause early. \n",
    "#If the execution reaches a break statement, it immediately exits the while loop’s clause. In code, a break statement simply contains the break keyword.\n",
    "while True:\n",
    "    print('Please type your name.')\n",
    "    name = input()\n",
    "    if name == 'your name':\n",
    "        break\n",
    "print('Thank you!')\n",
    "#first line creates infinite loop as condition is always true\n",
    "#if the if statement is true then it triggers break clause and thank you is printed\n",
    "#IMPORTANT! If trapped in infinate loop press control+c "
   ]
  },
  {
   "cell_type": "code",
   "execution_count": null,
   "metadata": {},
   "outputs": [],
   "source": [
    "while True:\n",
    "    print('Who are you?')\n",
    "    name = input()\n",
    "    if name != 'Joe':\n",
    "        continue\n",
    "    print('Hello, Joe. What is the password? (It is a fish.)')\n",
    "    password = input()\n",
    "    if password == 'swordfish':\n",
    "        break\n",
    "print('Access granted.') \n",
    "\n",
    "# if you add a name that is not equal to Joe then continue statement causes programme to start again as name!= Joe is True so meets the While True Loop Statement\n",
    "# if password = swordfish this triggers break statement and we jump out the loop\n",
    "# otherwise execusion continues to end of loop and jumps back to start"
   ]
  },
  {
   "cell_type": "code",
   "execution_count": null,
   "metadata": {},
   "outputs": [],
   "source": [
    "name = ''\n",
    "while not name:\n",
    "    print('Enter your name:')\n",
    "    name = input()\n",
    "print('How many guests will you have?')\n",
    "numOfGuests = int(input())\n",
    "if numOfGuests:\n",
    "    print('Be sure to have enough room for all your guests.')\n",
    "\n",
    "# if name is blank then programme asks for name again\n",
    "# if no: guests is zero then it is not an integer and programme stops\n",
    "# if no: guests is int then print statement is triggered"
   ]
  },
  {
   "cell_type": "markdown",
   "metadata": {},
   "source": [
    "Run this program and give it some input. Until you claim to be Joe, the\n",
    "program shouldn’t ask for a password, and once you enter the correct password, it should exit.\n",
    "\n",
    "Who are you?\n",
    "I'm fine, thanks. Who are you?\n",
    "Who are you?\n",
    "Joe\n",
    "Hello, Joe. What is the password? (It is a fish.)\n",
    "Mary\n",
    "Who are you?\n",
    "Joe\n",
    "Hello, Joe. What is the password? (It is a fish.)\n",
    "swordfish\n",
    "Access granted."
   ]
  },
  {
   "cell_type": "code",
   "execution_count": null,
   "metadata": {},
   "outputs": [],
   "source": [
    "while True:\n",
    "    print('Who are you?')\n",
    "    name = input()\n",
    "    if name != 'Joe':\n",
    "        continue\n",
    "    print('Hello, Joe. What is the password? (It is a fish.)')\n",
    "    password = input()\n",
    "    if password == 'swordfish':\n",
    "        break\n",
    "print('Access granted.')"
   ]
  },
  {
   "cell_type": "code",
   "execution_count": null,
   "metadata": {},
   "outputs": [],
   "source": [
    "print('My name is')\n",
    "for i in range(5): # 0 to 5  starting at 0\n",
    " print('Jimmy Five Times (' + str(i) + ')')"
   ]
  },
  {
   "cell_type": "code",
   "execution_count": null,
   "metadata": {},
   "outputs": [],
   "source": [
    "total = 0 #total variable set to 0\n",
    "for num in range(101): #executes total + num 100 times\n",
    "    total = total + num\n",
    "print(total)\n",
    "#There are 50 pairs of numbers that add up to 101: 1 + 100, 2 + 99, 3 + 98, and so\n",
    "# on, until 50 + 51. Since 50 × 101 is 5,050, the sum of all the numbers from 0 to 100 is 5,050."
   ]
  },
  {
   "cell_type": "code",
   "execution_count": 8,
   "metadata": {},
   "outputs": [
    {
     "name": "stdout",
     "output_type": "stream",
     "text": [
      "0\n",
      "2\n",
      "4\n",
      "6\n",
      "8\n"
     ]
    }
   ],
   "source": [
    "for i in range(0, 10, 2): # print range 0 until 9 in intervals of 2\n",
    " print(i)"
   ]
  },
  {
   "cell_type": "code",
   "execution_count": 7,
   "metadata": {},
   "outputs": [
    {
     "name": "stdout",
     "output_type": "stream",
     "text": [
      "5\n",
      "4\n",
      "3\n",
      "2\n",
      "1\n",
      "0\n"
     ]
    }
   ],
   "source": [
    "for i in range(5, -1, -1): #start at 5 and end at -1 - 1 = 0\n",
    " print(i)"
   ]
  },
  {
   "cell_type": "code",
   "execution_count": 5,
   "metadata": {},
   "outputs": [
    {
     "name": "stdout",
     "output_type": "stream",
     "text": [
      "9\n",
      "3\n",
      "6\n",
      "10\n",
      "8\n"
     ]
    }
   ],
   "source": [
    "import random\n",
    "for i in range(5): #random number generator to display 5 numbers in range 1,10\n",
    " print(random.randint(1, 10)) "
   ]
  },
  {
   "cell_type": "markdown",
   "metadata": {},
   "source": [
    "The examples I’ve shown you so far are useful for introducing basic concepts, but now let’s see how everything you’ve learned comes together in a\n",
    "more complete program. In this section, I’ll show you a simple “guess the\n",
    "number” game. When you run this program, the output will look something like this:\n",
    "I am thinking of a number between 1 and 20.\n",
    "Take a guess.\n",
    "10\n",
    "Your guess is too low.\n",
    "Take a guess.\n",
    "15\n",
    "Your guess is too low.\n",
    "Take a guess.\n",
    "17\n",
    "Your guess is too high.\n",
    "Take a guess.\n",
    "16\n",
    "Good job! You guessed my number in 4 guesses!"
   ]
  },
  {
   "cell_type": "code",
   "execution_count": 9,
   "metadata": {},
   "outputs": [
    {
     "name": "stdout",
     "output_type": "stream",
     "text": [
      "I am thinking of a number between 1 and 20.\n",
      "Take a guess.\n",
      "Your guess is too high.\n",
      "Take a guess.\n",
      "Your guess is too high.\n",
      "Take a guess.\n",
      "Your guess is too low.\n",
      "Take a guess.\n",
      "Good job! You guessed my number in 4 guesses!\n"
     ]
    }
   ],
   "source": [
    "# This is a guess the number game.\n",
    "import random\n",
    "secretNumber = random.randint(1, 20)\n",
    "print('I am thinking of a number between 1 and 20.')\n",
    "\n",
    "# Ask the player to guess 6 times.\n",
    "for guessesTaken in range(1, 7):\n",
    "    print('Take a guess.')\n",
    "    guess = int(input())\n",
    "\n",
    "    if guess < secretNumber:\n",
    "        print('Your guess is too low.')\n",
    "    elif guess > secretNumber:\n",
    "        print('Your guess is too high.')\n",
    "    else:\n",
    "        break # correct guess\n",
    "\n",
    "if guess == secretNumber:\n",
    "    print('Good job! You guessed my number in ' + str(guessesTaken) + ' guesses!')\n",
    "else:\n",
    "    print('Nope. The number I was thinking of was ' + str(secretNumber))"
   ]
  },
  {
   "cell_type": "markdown",
   "metadata": {},
   "source": [
    "Let’s use the programming concepts we’ve learned so far to create a simple\n",
    "rock, paper, scissors game. The output will look like this:\n",
    "ROCK, PAPER, SCISSORS\n",
    "0 Wins, 0 Losses, 0 Ties\n",
    "Enter your move: (r)ock (p)aper (s)cissors or (q)uit\n",
    "p\n",
    "PAPER versus...\n",
    "PAPER\n",
    "It is a tie!\n",
    "0 Wins, 1 Losses, 1 Ties\n",
    "Enter your move: (r)ock (p)aper (s)cissors or (q)uit\n",
    "s\n",
    "SCISSORS versus...\n",
    "PAPER\n",
    "You win!\n",
    "52 Chapter 2\n",
    "1 Wins, 1 Losses, 1 Ties\n",
    "Enter your move: (r)ock (p)aper (s)cissors or (q)uit\n",
    "q"
   ]
  },
  {
   "cell_type": "code",
   "execution_count": 1,
   "metadata": {},
   "outputs": [
    {
     "name": "stdout",
     "output_type": "stream",
     "text": [
      "ROCK, PAPER, SCISSORS\n",
      "0 Wins, 0 Losses, 0 Ties\n",
      "Enter your move: (r)ock (p)aper (s)cissors or (q)uit\n",
      "ROCK versus...\n",
      "SCISSORS\n",
      "You win!\n",
      "1 Wins, 0 Losses, 0 Ties\n",
      "Enter your move: (r)ock (p)aper (s)cissors or (q)uit\n",
      "PAPER versus...\n",
      "PAPER\n",
      "It is a tie!\n",
      "1 Wins, 0 Losses, 1 Ties\n",
      "Enter your move: (r)ock (p)aper (s)cissors or (q)uit\n",
      "SCISSORS versus...\n",
      "ROCK\n",
      "You lose!\n",
      "1 Wins, 1 Losses, 1 Ties\n",
      "Enter your move: (r)ock (p)aper (s)cissors or (q)uit\n",
      "SCISSORS versus...\n",
      "ROCK\n",
      "You lose!\n",
      "1 Wins, 2 Losses, 1 Ties\n",
      "Enter your move: (r)ock (p)aper (s)cissors or (q)uit\n",
      "SCISSORS versus...\n",
      "PAPER\n",
      "You win!\n",
      "2 Wins, 2 Losses, 1 Ties\n",
      "Enter your move: (r)ock (p)aper (s)cissors or (q)uit\n"
     ]
    },
    {
     "ename": "SystemExit",
     "evalue": "",
     "output_type": "error",
     "traceback": [
      "An exception has occurred, use %tb to see the full traceback.\n",
      "\u001b[0;31mSystemExit\u001b[0m\n"
     ]
    },
    {
     "name": "stderr",
     "output_type": "stream",
     "text": [
      "/Users/jordanstevens/Library/Python/3.9/lib/python/site-packages/IPython/core/interactiveshell.py:3534: UserWarning: To exit: use 'exit', 'quit', or Ctrl-D.\n",
      "  warn(\"To exit: use 'exit', 'quit', or Ctrl-D.\", stacklevel=1)\n"
     ]
    }
   ],
   "source": [
    "import random, sys\n",
    "print('ROCK, PAPER, SCISSORS')\n",
    "\n",
    "# These variables keep track of the number of wins, losses, and ties.\n",
    "wins = 0\n",
    "losses = 0\n",
    "ties = 0\n",
    "\n",
    "while True: # The main game loop.\n",
    "    print('%s Wins, %s Losses, %s Ties' % (wins, losses, ties))\n",
    "    while True: # The player input loop.\n",
    "        print('Enter your move: (r)ock (p)aper (s)cissors or (q)uit')\n",
    "        playerMove = input()\n",
    "        if playerMove == 'q':\n",
    "            sys.exit() # Quit the program.\n",
    "        if playerMove == 'r' or playerMove == 'p' or playerMove == 's':\n",
    "            break # Break out of the player input loop.\n",
    "        print('Type one of r, p, s, or q.')\n",
    "\n",
    " # Display what the player chose:\n",
    "    if playerMove == 'r':\n",
    "        print('ROCK versus...')\n",
    "    elif playerMove == 'p':\n",
    "        print('PAPER versus...')\n",
    "    elif playerMove == 's':\n",
    "        print('SCISSORS versus...')\n",
    "    \n",
    " # Display what the computer chose:\n",
    "    randomNumber = random.randint(1, 3)\n",
    "    if randomNumber == 1:\n",
    "        computerMove = 'r'\n",
    "        print('ROCK')\n",
    "    elif randomNumber == 2:\n",
    "        computerMove = 'p'\n",
    "        print('PAPER')\n",
    "    elif randomNumber == 3:\n",
    "        computerMove = 's'\n",
    "        print('SCISSORS')\n",
    "        \n",
    "# Display and record the win/loss/tie:\n",
    "    if playerMove == computerMove:\n",
    "        print('It is a tie!')\n",
    "        ties = ties + 1\n",
    "    elif playerMove == 'r' and computerMove == 's':\n",
    "        print('You win!')\n",
    "        wins = wins + 1\n",
    "    elif playerMove == 'p' and computerMove == 'r':\n",
    "        print('You win!')\n",
    "        wins = wins + 1\n",
    "    elif playerMove == 's' and computerMove == 'p':\n",
    "        print('You win!')\n",
    "        wins = wins + 1\n",
    "    elif playerMove == 'r' and computerMove == 'p':\n",
    "        print('You lose!')\n",
    "        losses = losses + 1\n",
    "    elif playerMove == 'p' and computerMove == 's':\n",
    "        print('You lose!')\n",
    "        losses = losses + 1\n",
    "    elif playerMove == 's' and computerMove == 'r':\n",
    "        print('You lose!')\n",
    "        losses = losses + 1"
   ]
  },
  {
   "cell_type": "markdown",
   "metadata": {},
   "source": [
    "## Practice Questions"
   ]
  },
  {
   "cell_type": "markdown",
   "metadata": {},
   "source": [
    "q1) What are the two values of the Boolean data type? How do you write them?"
   ]
  },
  {
   "cell_type": "markdown",
   "metadata": {},
   "source": [
    "True and False"
   ]
  },
  {
   "cell_type": "markdown",
   "metadata": {},
   "source": [
    "q2) What are the three Boolean operators?"
   ]
  },
  {
   "cell_type": "markdown",
   "metadata": {},
   "source": [
    "and, or and not"
   ]
  },
  {
   "cell_type": "markdown",
   "metadata": {},
   "source": [
    "q3) Write out the truth tables of each Boolean operator (that is, every\n",
    "possible combination of Boolean values for the operator and what\n",
    "they evaluate to)."
   ]
  },
  {
   "cell_type": "markdown",
   "metadata": {},
   "source": [
    "True and True is True; True and False is False, False and True is False;\n",
    "False and False is False; True or True is True; True or False is True;\n",
    "False or True is True; False or False is False; not True is False; not False is True\n"
   ]
  },
  {
   "cell_type": "markdown",
   "metadata": {},
   "source": [
    "q4) What do the following expressions evaluate to?"
   ]
  },
  {
   "cell_type": "markdown",
   "metadata": {},
   "source": [
    "(5 > 4) and (3==5) is False\n",
    "not (5 > 4) is False\n",
    "(5 > 4) or (3 == 5) is True\n",
    "(True and True) and (True == False) is False\n",
    "(not False) or (not True) is True"
   ]
  },
  {
   "cell_type": "markdown",
   "metadata": {},
   "source": [
    "q5) what are the 6 comparison operators?"
   ]
  },
  {
   "cell_type": "markdown",
   "metadata": {},
   "source": [
    "==; !=; >; <; >=; <="
   ]
  },
  {
   "cell_type": "markdown",
   "metadata": {},
   "source": [
    "q6) What is the difference between the equal to operator and the assignment operator?"
   ]
  },
  {
   "cell_type": "markdown",
   "metadata": {},
   "source": [
    " == operator identifies if 2 things are equal to one another whearas the assignment operator '=' allows you to store a value in a variable i.e. Jordan = 1st "
   ]
  },
  {
   "cell_type": "markdown",
   "metadata": {},
   "source": [
    "q7) Explain what a condition is and where you would use one."
   ]
  },
  {
   "cell_type": "markdown",
   "metadata": {},
   "source": [
    "A condition is an expression used in a flow control statement that evaluates to a Boolean value."
   ]
  },
  {
   "cell_type": "code",
   "execution_count": 2,
   "metadata": {},
   "outputs": [
    {
     "data": {
      "text/plain": [
       "'Hello Jordan'"
      ]
     },
     "execution_count": 2,
     "metadata": {},
     "output_type": "execute_result"
    }
   ],
   "source": [
    "while True: # loop\n",
    "    name = input(\"What is your name\")\n",
    "    if name != \"Jordan\": # condition statement \n",
    "        continue\n",
    "    else:\n",
    "        break\n",
    "(\"Hello Jordan\")"
   ]
  },
  {
   "cell_type": "markdown",
   "metadata": {},
   "source": [
    "q8) Identify the three blocks in this code:"
   ]
  },
  {
   "cell_type": "code",
   "execution_count": null,
   "metadata": {},
   "outputs": [],
   "source": [
    "spam = 0 \n",
    "if spam == 10:\n",
    "    print('eggs')\n",
    "    if spam > 5: \n",
    "        print('bacon') #block\n",
    "    else:\n",
    "        print('ham') #block\n",
    "    print('spam')\n",
    "print('spam') "
   ]
  },
  {
   "cell_type": "markdown",
   "metadata": {},
   "source": [
    "The three blocks are everything inside the if statement and the lines print('bacon') and print('ham').\n",
    "\n",
    "Blocks of code can have as many lines of code as you want as long as they are uninterpted by another line of code that's on a different indent or a higher indent from it. \n",
    "\n",
    "Therefore print('eggs') is on a different indent level to print('bacon') and print('ham') therefore they are on different blocks"
   ]
  },
  {
   "cell_type": "markdown",
   "metadata": {},
   "source": [
    "q9) Write code that prints Hello if 1 is stored in spam, prints Howdy if 2 is\n",
    "stored in spam, and prints Greetings! if anything else is stored in spam."
   ]
  },
  {
   "cell_type": "code",
   "execution_count": 3,
   "metadata": {},
   "outputs": [
    {
     "name": "stdout",
     "output_type": "stream",
     "text": [
      "type a number\n",
      "Greetings!\n"
     ]
    }
   ],
   "source": [
    "print(\"type a number\") \n",
    "spam = int(input())\n",
    "if spam == 1:\n",
    "    print(\"Hello\")\n",
    "elif spam == 2:\n",
    "    print(\"Howdy\")\n",
    "else:\n",
    "    print(\"Greetings!\")"
   ]
  },
  {
   "cell_type": "markdown",
   "metadata": {},
   "source": [
    "q10)What keys can you press if your program is stuck in an infinite loop?"
   ]
  },
  {
   "cell_type": "markdown",
   "metadata": {},
   "source": [
    "Press cmd-C to stop a program stuck in an infinite loop."
   ]
  },
  {
   "cell_type": "markdown",
   "metadata": {},
   "source": [
    "q11) What is the difference between break and continue?"
   ]
  },
  {
   "cell_type": "markdown",
   "metadata": {},
   "source": [
    "The break statement will move the execution outside and just after a\n",
    "loop. The continue statement will move the execution to the start of\n",
    "the loop"
   ]
  },
  {
   "cell_type": "markdown",
   "metadata": {},
   "source": [
    "q12) What is the difference between range(10), range(0, 10), and range(0, 10, 1)\n",
    "in a for loop?"
   ]
  },
  {
   "cell_type": "markdown",
   "metadata": {},
   "source": [
    "They all do the same thing. The range(10) call ranges from 0 up to (but\n",
    "not including) 10, range(0, 10) explicitly tells the loop to start at 0, and\n",
    "range(0, 10, 1) explicitly tells the loop to increase the variable by 1 on\n",
    "each iteration."
   ]
  },
  {
   "cell_type": "markdown",
   "metadata": {},
   "source": [
    "q13) Write a short program that prints the numbers 1 to 10 using a for loop.\n",
    "Then write an equivalent program that prints the numbers 1 to 10 using\n",
    "a while loop."
   ]
  },
  {
   "cell_type": "code",
   "execution_count": null,
   "metadata": {},
   "outputs": [],
   "source": [
    "for numbers in range(1,11):\n",
    "    print(numbers)"
   ]
  },
  {
   "cell_type": "code",
   "execution_count": null,
   "metadata": {},
   "outputs": [],
   "source": [
    "# using while loop\n",
    "numbers = 0 # initialise counter\n",
    "while numbers < 11:\n",
    "        print(numbers)\n",
    "        numbers = numbers + 1"
   ]
  },
  {
   "cell_type": "markdown",
   "metadata": {},
   "source": [
    "If you had a function named bacon() inside a module named spam, how\n",
    "would you call it after importing spam?"
   ]
  },
  {
   "cell_type": "markdown",
   "metadata": {},
   "source": [
    "This function can be called with spam.bacon()."
   ]
  },
  {
   "cell_type": "markdown",
   "metadata": {},
   "source": [
    "## Part 3 - Functions"
   ]
  },
  {
   "cell_type": "code",
   "execution_count": null,
   "metadata": {},
   "outputs": [],
   "source": [
    "def hello(): #defines the function named hello\n",
    "    print('Howdy!') #body of function - code is executed when the function is called (2nd code block)\n",
    "    print('Howdy!!!')\n",
    "    print('Hello there.')\n",
    "hello() #function call"
   ]
  },
  {
   "cell_type": "code",
   "execution_count": null,
   "metadata": {},
   "outputs": [],
   "source": [
    "def hello(name): # parameter = name \n",
    "    print('Hello, ' + name)\n",
    "hello('Alice')  #function call with paramter value = Alice\n",
    "hello('Bob')  #function call with paramter value = Bob"
   ]
  },
  {
   "cell_type": "code",
   "execution_count": null,
   "metadata": {},
   "outputs": [],
   "source": [
    "# When creating a function using the def statement, you can specify what the return value should be \n",
    "# with a return statement. A return statement consists of the following:\n",
    "\n",
    "import random\n",
    "\n",
    "def getAnswer(answerNumber): #getAnswer function defined\n",
    "    if answerNumber == 1:\n",
    "        return 'It is certain'\n",
    "    elif answerNumber == 2:\n",
    "        return 'It is decidedly so'\n",
    "    elif answerNumber == 3:\n",
    "        return 'Yes'\n",
    "    elif answerNumber == 4:\n",
    "        return 'Reply hazy try again'\n",
    "    elif answerNumber == 5:\n",
    "        return 'Ask again later'\n",
    "    elif answerNumber == 6:\n",
    "        return 'Concentrate and ask again'\n",
    "    elif answerNumber == 7:\n",
    "        return 'My reply is no'\n",
    "    elif answerNumber == 8:\n",
    "        return 'Outlook not so good'\n",
    "    elif answerNumber == 9:\n",
    "        return 'Very doubtful'\n",
    "    \n",
    "# r = random.randint(1, 9) # the random.randint() function is called with two arguments: 1 and 9\n",
    "# fortune = getAnswer(r) #returned string is assigned to a variable named fortune\n",
    "# print(fortune)\n",
    "\n",
    "print(getAnswer(random.randint(1, 9))) # since you can pass return values as an argument to another function call, you could shorten these three lines:"
   ]
  },
  {
   "cell_type": "code",
   "execution_count": null,
   "metadata": {},
   "outputs": [],
   "source": [
    "import random\n",
    "\n",
    "def arsenalpos(position):\n",
    "    if position == 1:\n",
    "        return 'champions'\n",
    "    elif position == 2:\n",
    "        return 'runnerup'\n",
    "    elif position in range(3,5): #note: range 3,5 indentifies values 3 and 4\n",
    "        return 'champions league'\n",
    "    elif position == 5 or position == 6:\n",
    "        return 'europa cup'\n",
    "    elif 7 <= position <= 17:\n",
    "        return 'premier league next season'\n",
    "    elif position > 17: \n",
    "        return 'relegated'\n",
    "\n",
    "r = random.randint(1,20)\n",
    "rolldice = arsenalpos(r)\n",
    "print(rolldice)\n",
    "print(r)"
   ]
  },
  {
   "cell_type": "code",
   "execution_count": null,
   "metadata": {},
   "outputs": [],
   "source": [
    "# None is equivilant to null/nil in other programming languages a nonetrpe data type\n",
    "# This value-without-a-value can be helpful when you need to store\n",
    "# something that won’t be confused for a real value in a variable\n",
    "\n",
    "spam = print('Hello!')\n",
    "\n",
    "None == spam"
   ]
  },
  {
   "cell_type": "code",
   "execution_count": null,
   "metadata": {},
   "outputs": [],
   "source": [
    "# keyword arguements and the print function\n",
    "\n",
    "print('Hello', end='') # end parameter ensures print statement appears on the same line for both statements\n",
    "print(' World')\n",
    "\n",
    "print('cats', 'dogs', 'mice', sep=', ') # seperate each string value with a comma"
   ]
  },
  {
   "cell_type": "code",
   "execution_count": null,
   "metadata": {},
   "outputs": [],
   "source": [
    "# calling a function doesn’t send the execution on a one-way trip to the top of a function. Python will remember \n",
    "# which line of code called the function so that the execution can return there when it encounters a return statement. If that original function\n",
    "# called other functions, the execution would return to those function calls first, before returning from the original function call\n",
    "\n",
    "#call stack - i.e. calling various functions\n",
    "def a():\n",
    "    print('a() starts')\n",
    "    b()\n",
    "    d()\n",
    "    print('a() returns')\n",
    "\n",
    "def b():\n",
    "    print('b() starts')\n",
    "    c()\n",
    "    print('b() returns')\n",
    "\n",
    "def c():\n",
    "    print('c() starts')\n",
    "    print('c() returns')\n",
    "\n",
    "def d():\n",
    "    print('d() starts')\n",
    "    print('d() returns')\n",
    "\n",
    "a()"
   ]
  },
  {
   "cell_type": "markdown",
   "metadata": {},
   "source": [
    "code above shows the call stack function pathway according to what function was being called first. For example, first print a() starts then call function b() which is b() starts then call function c() which is c() starts and c() returns. That is the end of call function c(): but we are still on call function B() as we now have to print b() returns; now back up to def a(): and now we calling funciton d() which is d() starts and d() returns. Lastly we call function a() whihc is a() returns whihc is the last one left."
   ]
  },
  {
   "cell_type": "markdown",
   "metadata": {},
   "source": [
    "#### LOCAL AND GLOBAL SCOPE"
   ]
  },
  {
   "cell_type": "markdown",
   "metadata": {},
   "source": [
    "Parameters and variables that are assigned in a called function are said\n",
    "to exist in that function’s local scope. Variables that are assigned outside all\n",
    "functions are said to exist in the global scope. A variable that exists in a local\n",
    "scope is called a local variable, while a variable that exists in the global scope\n",
    "is called a global variable. A variable must be one or the other; it cannot be\n",
    "both local and global."
   ]
  },
  {
   "cell_type": "markdown",
   "metadata": {},
   "source": [
    "When a scope is destroyed, all the values stored in the scope’s variables are forgotten. \n",
    "\n",
    "There is only one global scope, and it is created when your program begins. \n",
    "\n",
    "When your program terminates, the global scope is destroyed, and all its variables are forgotten."
   ]
  },
  {
   "cell_type": "markdown",
   "metadata": {},
   "source": [
    "* Code in the global scope, outside of all functions, cannot use any\n",
    "local variables.\n",
    "* However, code in a local scope can access global variables.\n",
    "* Code in a function’s local scope cannot use variables in any other\n",
    "local scope.\n",
    "* You can use the same name for different variables if they are in dif-\n",
    "ferent scopes. That is, there can be a local variable named spam and\n",
    "a global variable also named spam."
   ]
  },
  {
   "cell_type": "markdown",
   "metadata": {},
   "source": [
    "The reason Python has different scopes instead of just making every-\n",
    "thing a global variable is so that when variables are modified by the code\n",
    "in a particular call to a function, the function interacts with the rest of the\n",
    "program only through its parameters and the return value. This narrows\n",
    "down the number of lines of code that may be causing a bug. If your pro-\n",
    "gram contained nothing but global variables and had a bug because of a\n",
    "variable being set to a bad value, then it would be hard to track down where\n",
    "this bad value was set."
   ]
  },
  {
   "cell_type": "code",
   "execution_count": 2,
   "metadata": {},
   "outputs": [
    {
     "ename": "NameError",
     "evalue": "name 'eggs' is not defined",
     "output_type": "error",
     "traceback": [
      "\u001b[0;31m---------------------------------------------------------------------------\u001b[0m",
      "\u001b[0;31mNameError\u001b[0m                                 Traceback (most recent call last)",
      "\u001b[1;32m/Users/jordanstevens/Documents/Python/Basics - variables, data types, loops, functions, modules/Automate the boring stuff with python.ipynb Cell 102\u001b[0m line \u001b[0;36m5\n\u001b[1;32m      <a href='vscode-notebook-cell:/Users/jordanstevens/Documents/Python/Basics%20-%20variables%2C%20data%20types%2C%20loops%2C%20functions%2C%20modules/Automate%20the%20boring%20stuff%20with%20python.ipynb#Y203sZmlsZQ%3D%3D?line=2'>3</a>\u001b[0m     eggs \u001b[39m=\u001b[39m \u001b[39m31337\u001b[39m\n\u001b[1;32m      <a href='vscode-notebook-cell:/Users/jordanstevens/Documents/Python/Basics%20-%20variables%2C%20data%20types%2C%20loops%2C%20functions%2C%20modules/Automate%20the%20boring%20stuff%20with%20python.ipynb#Y203sZmlsZQ%3D%3D?line=3'>4</a>\u001b[0m spam() \n\u001b[0;32m----> <a href='vscode-notebook-cell:/Users/jordanstevens/Documents/Python/Basics%20-%20variables%2C%20data%20types%2C%20loops%2C%20functions%2C%20modules/Automate%20the%20boring%20stuff%20with%20python.ipynb#Y203sZmlsZQ%3D%3D?line=4'>5</a>\u001b[0m \u001b[39mprint\u001b[39m(eggs) \u001b[39m#this causes the eggs variable to be destroyed\u001b[39;00m\n\u001b[1;32m      <a href='vscode-notebook-cell:/Users/jordanstevens/Documents/Python/Basics%20-%20variables%2C%20data%20types%2C%20loops%2C%20functions%2C%20modules/Automate%20the%20boring%20stuff%20with%20python.ipynb#Y203sZmlsZQ%3D%3D?line=5'>6</a>\u001b[0m \u001b[39m# i.e. we are trying to print eggs in the global scope but its a local variable!\u001b[39;00m\n\u001b[1;32m      <a href='vscode-notebook-cell:/Users/jordanstevens/Documents/Python/Basics%20-%20variables%2C%20data%20types%2C%20loops%2C%20functions%2C%20modules/Automate%20the%20boring%20stuff%20with%20python.ipynb#Y203sZmlsZQ%3D%3D?line=6'>7</a>\u001b[0m \u001b[39m#when the program execution is in the global scope, no local scopes exist, so there can’t be any local variables\u001b[39;00m\n",
      "\u001b[0;31mNameError\u001b[0m: name 'eggs' is not defined"
     ]
    }
   ],
   "source": [
    "#local scope\n",
    "def spam():\n",
    "    eggs = 31337\n",
    "spam() \n",
    "print(eggs) #this causes the eggs variable to be destroyed\n",
    "# i.e. we are trying to print eggs in the global scope but its a local variable it dosen't exist in the global scope!\n",
    "#when the program execution is in the global scope, no local scopes exist, so there can’t be any local variables"
   ]
  },
  {
   "cell_type": "markdown",
   "metadata": {},
   "source": [
    "The error happens because the eggs variable exists only in the local scope created when spam() is called. Once the program execution returns\n",
    "from spam, that local scope is destroyed, and there is no longer a variable\n",
    "named eggs."
   ]
  },
  {
   "cell_type": "code",
   "execution_count": 1,
   "metadata": {},
   "outputs": [
    {
     "name": "stdout",
     "output_type": "stream",
     "text": [
      "31337\n"
     ]
    }
   ],
   "source": [
    "# eggs in the local scope\n",
    "\n",
    "def spam(): # define function\n",
    "    eggs = 31337\n",
    "    print(eggs) # print in the local scope\n",
    "spam() # call function"
   ]
  },
  {
   "cell_type": "code",
   "execution_count": 3,
   "metadata": {},
   "outputs": [
    {
     "name": "stdout",
     "output_type": "stream",
     "text": [
      "31337\n"
     ]
    }
   ],
   "source": [
    "# eggs in the global scope\n",
    "\n",
    "eggs = 31337 # define eggs in the global scope\n",
    "\n",
    "def spam():\n",
    "    print(eggs)\n",
    "\n",
    "spam() # call the function"
   ]
  },
  {
   "cell_type": "code",
   "execution_count": 1,
   "metadata": {},
   "outputs": [
    {
     "name": "stdout",
     "output_type": "stream",
     "text": [
      "99\n"
     ]
    }
   ],
   "source": [
    "# A new local scope is created whenever a function is called, including when a function is called from another function.\n",
    "\n",
    "def spam():\n",
    "    eggs = 99 #eggs here is a local variable\n",
    "    bacon() # When bacon() returns, the local scope for that call is destroyed, including its eggs variable.\n",
    "    print(eggs)\n",
    "    \n",
    "def bacon(): #2nd local scope created\n",
    "    ham = 101\n",
    "    eggs = 0\n",
    "    \n",
    "spam()"
   ]
  },
  {
   "cell_type": "markdown",
   "metadata": {},
   "source": [
    "To me this reads:\n",
    "\n",
    "* created 2 functions spam and bacon with their variables in the local scope i.e. no variables i.e. eggs/ham is on 1st indentaiton. \n",
    "\n",
    "* spam is defined > which has eggs = 99 and wants to print eggs so it will show 99 as a result. It also has called the bacon function before bacon has been defined > this destroys the local scope including the variables that it set i.e. the bacon function just sets ham = 101 and eggs = 0.\n",
    "\n",
    "* when spam is called eggs will print as 99 only"
   ]
  },
  {
   "cell_type": "markdown",
   "metadata": {},
   "source": [
    "When the program starts, the spam() function is called,\n",
    "and a local scope is created. The local variable eggs is set to 99. Then the\n",
    "bacon() function is called, and a second local scope is created. Multiple\n",
    "local scopes can exist at the same time. In this new local scope, the local\n",
    "variable ham is set to 101, and a local variable eggs—which is different from\n",
    "the one in spam()’s local scope—is also created and set to 0.\n",
    "When bacon() returns, the local scope for that call is destroyed, including its eggs variable. The program execution continues in the spam() function to print the value of eggs. Since the local scope for the call to spam()\n",
    "still exists, the only eggs variable is the spam() function’s eggs variable, which\n",
    "was set to 99. This is what the program prints."
   ]
  },
  {
   "cell_type": "code",
   "execution_count": 5,
   "metadata": {},
   "outputs": [
    {
     "name": "stdout",
     "output_type": "stream",
     "text": [
      "42\n",
      "42\n"
     ]
    }
   ],
   "source": [
    "# Global variable \n",
    "\n",
    "def spam():\n",
    "    print(eggs) #printing eggs in the local scope\n",
    "eggs = 42 #eggs here is a global variable (1st indentation)\n",
    "spam() #call the span function which prints the 1st print eggs statement above (local scope)\n",
    "print(eggs) #printing eggs in the global scope"
   ]
  },
  {
   "cell_type": "markdown",
   "metadata": {},
   "source": [
    "Since there is no parameter named eggs or any code that\n",
    "assigns eggs a value in the spam() function, when eggs is used in spam(),\n",
    "Python considers it a reference to the global variable eggs. This is why\n",
    "42 is printed when the previous program is run. "
   ]
  },
  {
   "cell_type": "markdown",
   "metadata": {},
   "source": [
    "Technically, it’s perfectly acceptable to use the same variable name for a\n",
    "global variable and local variables in different scopes in Python. But, to\n",
    "simplify your life, avoid doing this."
   ]
  },
  {
   "cell_type": "code",
   "execution_count": 3,
   "metadata": {},
   "outputs": [
    {
     "name": "stdout",
     "output_type": "stream",
     "text": [
      "bacon local\n",
      "spam local\n",
      "bacon local\n",
      "global\n"
     ]
    }
   ],
   "source": [
    "#  A variable named eggs that exists in a local scope when spam() is called.\n",
    "#  A variable named eggs that exists in a local scope when bacon() is called.\n",
    "#  A variable named eggs that exists in the global scope.\n",
    "\n",
    "def spam():\n",
    "    eggs = 'spam local'\n",
    "    print(eggs)\n",
    "    \n",
    "def bacon():\n",
    "    eggs = 'bacon local'\n",
    "    print(eggs) # prints 'bacon local'\n",
    "    spam() # refers to spam so it prints this next once this function is called\n",
    "    print(eggs) # prints 'bacon local'\n",
    "    \n",
    "eggs = 'global'\n",
    "bacon() # call int he bacon function\n",
    "print(eggs) # prints 'global' > refers to eggs global"
   ]
  },
  {
   "cell_type": "markdown",
   "metadata": {},
   "source": [
    "* spam function is defined which gives eggs = spam local and prints it - eggs variable is in local scope\n",
    "\n",
    "* bacon function is defined next with eggs defined as bacon local > now because this variable created before the print function it will print bacon local once its called which it is on the global scope.\n",
    "\n",
    "* bacon gets called > whihc prints bacon local twice and calls in the spam function spam local so it goes bacon local spam local bacon local \n",
    "\n",
    "* then finally there is a print(eggs) whihc refers to the global eggs value because the way values of functions are taken is by the indentation line from which its called."
   ]
  },
  {
   "cell_type": "code",
   "execution_count": 4,
   "metadata": {},
   "outputs": [
    {
     "name": "stdout",
     "output_type": "stream",
     "text": [
      "spam\n"
     ]
    }
   ],
   "source": [
    "def spam():\n",
    "    global eggs # modify eggs variable using the global statement\n",
    "    eggs = 'spam'\n",
    "eggs = 'global' # change this to spam\n",
    "spam()\n",
    "print(eggs) # print eggs in the global scope\n",
    "\n",
    "# here we are saying whatever eggs value is in the global scope change its value to spam"
   ]
  },
  {
   "cell_type": "markdown",
   "metadata": {},
   "source": [
    "* the condition global (variable name) forces you to refer to that variable name in the global scope\n",
    "\n",
    "* so here we are setting eggs = spam but we are actually saying chnage it in the global scope\n",
    "\n",
    "* now eggs becomes spam in the global scope. hence why when we write print(eggs) in the global scope it now equals to spam."
   ]
  },
  {
   "cell_type": "code",
   "execution_count": 5,
   "metadata": {},
   "outputs": [
    {
     "name": "stdout",
     "output_type": "stream",
     "text": [
      "spam\n"
     ]
    }
   ],
   "source": [
    "def spam():\n",
    "    global eggs # referring to changing eggs value to spam in the global scope\n",
    "    eggs = 'spam' \n",
    "\n",
    "def bacon():\n",
    "    eggs = 'bacon'\n",
    "\n",
    "def ham():\n",
    "    print(eggs) \n",
    "eggs = 42 # now becomes spam\n",
    "spam() # call the spam function\n",
    "print(eggs)"
   ]
  },
  {
   "cell_type": "markdown",
   "metadata": {},
   "source": [
    "* change eggs to spam in the global scope\n",
    "\n",
    "* so when the spam function is called it prints spam \n",
    "\n",
    "* because we are not calling the bacon function which says change eggs to bacon this does not change the value for eggs\n",
    "\n",
    "* and we are not calling the ham function whcih prints eggs again"
   ]
  },
  {
   "cell_type": "code",
   "execution_count": 6,
   "metadata": {},
   "outputs": [
    {
     "ename": "UnboundLocalError",
     "evalue": "local variable 'eggs' referenced before assignment",
     "output_type": "error",
     "traceback": [
      "\u001b[0;31m---------------------------------------------------------------------------\u001b[0m",
      "\u001b[0;31mUnboundLocalError\u001b[0m                         Traceback (most recent call last)",
      "\u001b[1;32m/Users/jordanstevens/Documents/Python/Basics - variables, data types, loops, functions, modules/Automate the boring stuff with python.ipynb Cell 118\u001b[0m line \u001b[0;36m8\n\u001b[1;32m      <a href='vscode-notebook-cell:/Users/jordanstevens/Documents/Python/Basics%20-%20variables%2C%20data%20types%2C%20loops%2C%20functions%2C%20modules/Automate%20the%20boring%20stuff%20with%20python.ipynb#Y223sZmlsZQ%3D%3D?line=4'>5</a>\u001b[0m     eggs \u001b[39m=\u001b[39m \u001b[39m'\u001b[39m\u001b[39mspam local\u001b[39m\u001b[39m'\u001b[39m \u001b[39m# this should be before print statement\u001b[39;00m\n\u001b[1;32m      <a href='vscode-notebook-cell:/Users/jordanstevens/Documents/Python/Basics%20-%20variables%2C%20data%20types%2C%20loops%2C%20functions%2C%20modules/Automate%20the%20boring%20stuff%20with%20python.ipynb#Y223sZmlsZQ%3D%3D?line=6'>7</a>\u001b[0m eggs \u001b[39m=\u001b[39m \u001b[39m'\u001b[39m\u001b[39mglobal\u001b[39m\u001b[39m'\u001b[39m\n\u001b[0;32m----> <a href='vscode-notebook-cell:/Users/jordanstevens/Documents/Python/Basics%20-%20variables%2C%20data%20types%2C%20loops%2C%20functions%2C%20modules/Automate%20the%20boring%20stuff%20with%20python.ipynb#Y223sZmlsZQ%3D%3D?line=7'>8</a>\u001b[0m spam()\n",
      "\u001b[1;32m/Users/jordanstevens/Documents/Python/Basics - variables, data types, loops, functions, modules/Automate the boring stuff with python.ipynb Cell 118\u001b[0m line \u001b[0;36m4\n\u001b[1;32m      <a href='vscode-notebook-cell:/Users/jordanstevens/Documents/Python/Basics%20-%20variables%2C%20data%20types%2C%20loops%2C%20functions%2C%20modules/Automate%20the%20boring%20stuff%20with%20python.ipynb#Y223sZmlsZQ%3D%3D?line=2'>3</a>\u001b[0m \u001b[39mdef\u001b[39;00m \u001b[39mspam\u001b[39m():\n\u001b[0;32m----> <a href='vscode-notebook-cell:/Users/jordanstevens/Documents/Python/Basics%20-%20variables%2C%20data%20types%2C%20loops%2C%20functions%2C%20modules/Automate%20the%20boring%20stuff%20with%20python.ipynb#Y223sZmlsZQ%3D%3D?line=3'>4</a>\u001b[0m     \u001b[39mprint\u001b[39m(eggs) \u001b[39m# ERROR!\u001b[39;00m\n\u001b[1;32m      <a href='vscode-notebook-cell:/Users/jordanstevens/Documents/Python/Basics%20-%20variables%2C%20data%20types%2C%20loops%2C%20functions%2C%20modules/Automate%20the%20boring%20stuff%20with%20python.ipynb#Y223sZmlsZQ%3D%3D?line=4'>5</a>\u001b[0m     eggs \u001b[39m=\u001b[39m \u001b[39m'\u001b[39m\u001b[39mspam local\u001b[39m\u001b[39m'\u001b[39m\n",
      "\u001b[0;31mUnboundLocalError\u001b[0m: local variable 'eggs' referenced before assignment"
     ]
    }
   ],
   "source": [
    "def spam():\n",
    "    print(eggs) # ERROR!\n",
    "    eggs = 'spam local' # this should be before print statement\n",
    "\n",
    "eggs = 'global'\n",
    "spam()"
   ]
  },
  {
   "cell_type": "markdown",
   "metadata": {},
   "source": [
    "* If you try to use a local variable in a function before you assign a value to it, Python will give you an error - local variable 'eggs' referenced before assignment\n",
    "\n",
    "* The following code will run because we assign value to local variable eggs before printing"
   ]
  },
  {
   "cell_type": "code",
   "execution_count": 7,
   "metadata": {},
   "outputs": [
    {
     "name": "stdout",
     "output_type": "stream",
     "text": [
      "spam local\n"
     ]
    }
   ],
   "source": [
    "def spam():\n",
    "    eggs = 'spam local' # assigne variable eggs before print\n",
    "    print(eggs) \n",
    "\n",
    "eggs = 'global'\n",
    "spam() # call in spam function which prints eggs as spam local"
   ]
  },
  {
   "cell_type": "code",
   "execution_count": 10,
   "metadata": {},
   "outputs": [
    {
     "name": "stdout",
     "output_type": "stream",
     "text": [
      "21.0\n",
      "3.5\n",
      "Error: Invalid argument.\n",
      "None\n",
      "42.0\n"
     ]
    }
   ],
   "source": [
    "# exception / erro handling \n",
    "\n",
    "def spam(divideBy):\n",
    "    try:\n",
    "        return 42 / divideBy\n",
    "    except ZeroDivisionError:\n",
    "        print('Error: Invalid argument.')\n",
    "        \n",
    "print(spam(2))\n",
    "print(spam(12))\n",
    "print(spam(0))\n",
    "print(spam(1))"
   ]
  },
  {
   "cell_type": "markdown",
   "metadata": {},
   "source": [
    "* set up functio  called span which has arguement divideBy \n",
    "\n",
    "* code block says 42 divided by whatever value we input for the function call i.e. 2 is the first one then 12, 0 and finally 1. If the function returns a division by error i.e. dividing 42 by 0 for instance it will through that print statement\n",
    "\n",
    "* the purpose of the try and except clauses is so that we allow our code to contually run even.\n"
   ]
  },
  {
   "cell_type": "code",
   "execution_count": 14,
   "metadata": {},
   "outputs": [
    {
     "name": "stdout",
     "output_type": "stream",
     "text": [
      "********\n",
      " ********\n",
      "  ********\n",
      "   ********\n",
      "    ********\n",
      "     ********\n",
      "      ********\n",
      "       ********\n",
      "        ********\n",
      "         ********\n",
      "          ********\n",
      "           ********\n",
      "            ********\n",
      "             ********\n",
      "              ********\n",
      "               ********\n",
      "                ********\n",
      "                 ********\n",
      "                  ********\n",
      "                   ********\n",
      "                    ********\n",
      "                   ********\n",
      "                  ********\n",
      "                 ********\n",
      "                ********\n",
      "               ********\n",
      "              ********\n",
      "             ********\n",
      "            ********\n",
      "           ********\n",
      "          ********\n",
      "         ********\n",
      "        ********\n",
      "       ********\n",
      "      ********\n",
      "     ********\n",
      "    ********\n",
      "   ********\n",
      "  ********\n",
      " ********\n",
      "********\n",
      " ********\n",
      "  ********\n",
      "   ********\n",
      "    ********\n",
      "     ********\n",
      "      ********\n",
      "       ********\n",
      "        ********\n",
      "         ********\n",
      "          ********\n",
      "           ********\n",
      "            ********\n",
      "             ********\n",
      "              ********\n",
      "               ********\n",
      "                ********\n",
      "                 ********\n",
      "                  ********\n",
      "                   ********\n",
      "                    ********\n",
      "                   ********\n",
      "                  ********\n",
      "                 ********\n",
      "                ********\n",
      "               ********\n",
      "              ********\n",
      "             ********\n",
      "            ********\n",
      "           ********\n",
      "          ********\n",
      "         ********\n",
      "        ********\n",
      "       ********\n",
      "      ********\n",
      "     ********\n",
      "    ********\n",
      "   ********\n",
      "  ********\n",
      " ********\n",
      "********\n",
      " ********\n",
      "  ********\n",
      "   ********\n",
      "    ********\n",
      "     ********\n",
      "      ********\n",
      "       ********\n",
      "        ********\n",
      "         ********\n",
      "          ********\n",
      "           ********\n",
      "            ********\n",
      "             ********\n",
      "              ********\n",
      "               ********\n",
      "                ********\n"
     ]
    },
    {
     "ename": "AttributeError",
     "evalue": "'tuple' object has no attribute 'tb_frame'",
     "output_type": "error",
     "traceback": [
      "\u001b[0;31m---------------------------------------------------------------------------\u001b[0m",
      "\u001b[0;31mKeyboardInterrupt\u001b[0m                         Traceback (most recent call last)",
      "\u001b[1;32m/Users/jordanstevens/Documents/Python/Basics - variables, data types, loops, functions, modules/Automate the boring stuff with python.ipynb Cell 123\u001b[0m line \u001b[0;36m9\n\u001b[1;32m      <a href='vscode-notebook-cell:/Users/jordanstevens/Documents/Python/Basics%20-%20variables%2C%20data%20types%2C%20loops%2C%20functions%2C%20modules/Automate%20the%20boring%20stuff%20with%20python.ipynb#Y226sZmlsZQ%3D%3D?line=7'>8</a>\u001b[0m \u001b[39mprint\u001b[39m(\u001b[39m'\u001b[39m\u001b[39m********\u001b[39m\u001b[39m'\u001b[39m)\n\u001b[0;32m----> <a href='vscode-notebook-cell:/Users/jordanstevens/Documents/Python/Basics%20-%20variables%2C%20data%20types%2C%20loops%2C%20functions%2C%20modules/Automate%20the%20boring%20stuff%20with%20python.ipynb#Y226sZmlsZQ%3D%3D?line=8'>9</a>\u001b[0m time\u001b[39m.\u001b[39;49msleep(\u001b[39m0.1\u001b[39;49m) \u001b[39m# Pause for 1/10 of a second.\u001b[39;00m\n\u001b[1;32m     <a href='vscode-notebook-cell:/Users/jordanstevens/Documents/Python/Basics%20-%20variables%2C%20data%20types%2C%20loops%2C%20functions%2C%20modules/Automate%20the%20boring%20stuff%20with%20python.ipynb#Y226sZmlsZQ%3D%3D?line=10'>11</a>\u001b[0m \u001b[39mif\u001b[39;00m indentIncreasing:\n\u001b[1;32m     <a href='vscode-notebook-cell:/Users/jordanstevens/Documents/Python/Basics%20-%20variables%2C%20data%20types%2C%20loops%2C%20functions%2C%20modules/Automate%20the%20boring%20stuff%20with%20python.ipynb#Y226sZmlsZQ%3D%3D?line=11'>12</a>\u001b[0m     \u001b[39m# Increase the number of spaces:\u001b[39;00m\n",
      "\u001b[0;31mKeyboardInterrupt\u001b[0m: ",
      "\nDuring handling of the above exception, another exception occurred:\n",
      "\u001b[0;31mSystemExit\u001b[0m                                Traceback (most recent call last)",
      "    \u001b[0;31m[... skipping hidden 1 frame]\u001b[0m\n",
      "\u001b[1;32m/Users/jordanstevens/Documents/Python/Basics - variables, data types, loops, functions, modules/Automate the boring stuff with python.ipynb Cell 123\u001b[0m line \u001b[0;36m2\n\u001b[1;32m     <a href='vscode-notebook-cell:/Users/jordanstevens/Documents/Python/Basics%20-%20variables%2C%20data%20types%2C%20loops%2C%20functions%2C%20modules/Automate%20the%20boring%20stuff%20with%20python.ipynb#Y226sZmlsZQ%3D%3D?line=22'>23</a>\u001b[0m \u001b[39mexcept\u001b[39;00m \u001b[39mKeyboardInterrupt\u001b[39;00m:\n\u001b[0;32m---> <a href='vscode-notebook-cell:/Users/jordanstevens/Documents/Python/Basics%20-%20variables%2C%20data%20types%2C%20loops%2C%20functions%2C%20modules/Automate%20the%20boring%20stuff%20with%20python.ipynb#Y226sZmlsZQ%3D%3D?line=23'>24</a>\u001b[0m     sys\u001b[39m.\u001b[39;49mexit()\n",
      "\u001b[0;31mSystemExit\u001b[0m: ",
      "\nDuring handling of the above exception, another exception occurred:\n",
      "\u001b[0;31mAttributeError\u001b[0m                            Traceback (most recent call last)",
      "    \u001b[0;31m[... skipping hidden 1 frame]\u001b[0m\n",
      "File \u001b[0;32m~/Library/Python/3.9/lib/python/site-packages/IPython/core/interactiveshell.py:2097\u001b[0m, in \u001b[0;36mInteractiveShell.showtraceback\u001b[0;34m(self, exc_tuple, filename, tb_offset, exception_only, running_compiled_code)\u001b[0m\n\u001b[1;32m   2094\u001b[0m \u001b[39mif\u001b[39;00m exception_only:\n\u001b[1;32m   2095\u001b[0m     stb \u001b[39m=\u001b[39m [\u001b[39m'\u001b[39m\u001b[39mAn exception has occurred, use \u001b[39m\u001b[39m%\u001b[39m\u001b[39mtb to see \u001b[39m\u001b[39m'\u001b[39m\n\u001b[1;32m   2096\u001b[0m            \u001b[39m'\u001b[39m\u001b[39mthe full traceback.\u001b[39m\u001b[39m\\n\u001b[39;00m\u001b[39m'\u001b[39m]\n\u001b[0;32m-> 2097\u001b[0m     stb\u001b[39m.\u001b[39mextend(\u001b[39mself\u001b[39;49m\u001b[39m.\u001b[39;49mInteractiveTB\u001b[39m.\u001b[39;49mget_exception_only(etype,\n\u001b[1;32m   2098\u001b[0m                                                      value))\n\u001b[1;32m   2099\u001b[0m \u001b[39melse\u001b[39;00m:\n\u001b[1;32m   2101\u001b[0m     \u001b[39mdef\u001b[39;00m \u001b[39mcontains_exceptiongroup\u001b[39m(val):\n",
      "File \u001b[0;32m~/Library/Python/3.9/lib/python/site-packages/IPython/core/ultratb.py:710\u001b[0m, in \u001b[0;36mListTB.get_exception_only\u001b[0;34m(self, etype, value)\u001b[0m\n\u001b[1;32m    702\u001b[0m \u001b[39mdef\u001b[39;00m \u001b[39mget_exception_only\u001b[39m(\u001b[39mself\u001b[39m, etype, value):\n\u001b[1;32m    703\u001b[0m \u001b[39m    \u001b[39m\u001b[39m\"\"\"Only print the exception type and message, without a traceback.\u001b[39;00m\n\u001b[1;32m    704\u001b[0m \n\u001b[1;32m    705\u001b[0m \u001b[39m    Parameters\u001b[39;00m\n\u001b[0;32m   (...)\u001b[0m\n\u001b[1;32m    708\u001b[0m \u001b[39m    value : exception value\u001b[39;00m\n\u001b[1;32m    709\u001b[0m \u001b[39m    \"\"\"\u001b[39;00m\n\u001b[0;32m--> 710\u001b[0m     \u001b[39mreturn\u001b[39;00m ListTB\u001b[39m.\u001b[39;49mstructured_traceback(\u001b[39mself\u001b[39;49m, etype, value)\n",
      "File \u001b[0;32m~/Library/Python/3.9/lib/python/site-packages/IPython/core/ultratb.py:568\u001b[0m, in \u001b[0;36mListTB.structured_traceback\u001b[0;34m(self, etype, evalue, etb, tb_offset, context)\u001b[0m\n\u001b[1;32m    565\u001b[0m     chained_exc_ids\u001b[39m.\u001b[39madd(\u001b[39mid\u001b[39m(exception[\u001b[39m1\u001b[39m]))\n\u001b[1;32m    566\u001b[0m     chained_exceptions_tb_offset \u001b[39m=\u001b[39m \u001b[39m0\u001b[39m\n\u001b[1;32m    567\u001b[0m     out_list \u001b[39m=\u001b[39m (\n\u001b[0;32m--> 568\u001b[0m         \u001b[39mself\u001b[39;49m\u001b[39m.\u001b[39;49mstructured_traceback(\n\u001b[1;32m    569\u001b[0m             etype,\n\u001b[1;32m    570\u001b[0m             evalue,\n\u001b[1;32m    571\u001b[0m             (etb, chained_exc_ids),  \u001b[39m# type: ignore\u001b[39;49;00m\n\u001b[1;32m    572\u001b[0m             chained_exceptions_tb_offset,\n\u001b[1;32m    573\u001b[0m             context,\n\u001b[1;32m    574\u001b[0m         )\n\u001b[1;32m    575\u001b[0m         \u001b[39m+\u001b[39m chained_exception_message\n\u001b[1;32m    576\u001b[0m         \u001b[39m+\u001b[39m out_list)\n\u001b[1;32m    578\u001b[0m \u001b[39mreturn\u001b[39;00m out_list\n",
      "File \u001b[0;32m~/Library/Python/3.9/lib/python/site-packages/IPython/core/ultratb.py:1435\u001b[0m, in \u001b[0;36mAutoFormattedTB.structured_traceback\u001b[0;34m(self, etype, evalue, etb, tb_offset, number_of_lines_of_context)\u001b[0m\n\u001b[1;32m   1433\u001b[0m \u001b[39melse\u001b[39;00m:\n\u001b[1;32m   1434\u001b[0m     \u001b[39mself\u001b[39m\u001b[39m.\u001b[39mtb \u001b[39m=\u001b[39m etb\n\u001b[0;32m-> 1435\u001b[0m \u001b[39mreturn\u001b[39;00m FormattedTB\u001b[39m.\u001b[39;49mstructured_traceback(\n\u001b[1;32m   1436\u001b[0m     \u001b[39mself\u001b[39;49m, etype, evalue, etb, tb_offset, number_of_lines_of_context\n\u001b[1;32m   1437\u001b[0m )\n",
      "File \u001b[0;32m~/Library/Python/3.9/lib/python/site-packages/IPython/core/ultratb.py:1326\u001b[0m, in \u001b[0;36mFormattedTB.structured_traceback\u001b[0;34m(self, etype, value, tb, tb_offset, number_of_lines_of_context)\u001b[0m\n\u001b[1;32m   1323\u001b[0m mode \u001b[39m=\u001b[39m \u001b[39mself\u001b[39m\u001b[39m.\u001b[39mmode\n\u001b[1;32m   1324\u001b[0m \u001b[39mif\u001b[39;00m mode \u001b[39min\u001b[39;00m \u001b[39mself\u001b[39m\u001b[39m.\u001b[39mverbose_modes:\n\u001b[1;32m   1325\u001b[0m     \u001b[39m# Verbose modes need a full traceback\u001b[39;00m\n\u001b[0;32m-> 1326\u001b[0m     \u001b[39mreturn\u001b[39;00m VerboseTB\u001b[39m.\u001b[39;49mstructured_traceback(\n\u001b[1;32m   1327\u001b[0m         \u001b[39mself\u001b[39;49m, etype, value, tb, tb_offset, number_of_lines_of_context\n\u001b[1;32m   1328\u001b[0m     )\n\u001b[1;32m   1329\u001b[0m \u001b[39melif\u001b[39;00m mode \u001b[39m==\u001b[39m \u001b[39m'\u001b[39m\u001b[39mMinimal\u001b[39m\u001b[39m'\u001b[39m:\n\u001b[1;32m   1330\u001b[0m     \u001b[39mreturn\u001b[39;00m ListTB\u001b[39m.\u001b[39mget_exception_only(\u001b[39mself\u001b[39m, etype, value)\n",
      "File \u001b[0;32m~/Library/Python/3.9/lib/python/site-packages/IPython/core/ultratb.py:1173\u001b[0m, in \u001b[0;36mVerboseTB.structured_traceback\u001b[0;34m(self, etype, evalue, etb, tb_offset, number_of_lines_of_context)\u001b[0m\n\u001b[1;32m   1164\u001b[0m \u001b[39mdef\u001b[39;00m \u001b[39mstructured_traceback\u001b[39m(\n\u001b[1;32m   1165\u001b[0m     \u001b[39mself\u001b[39m,\n\u001b[1;32m   1166\u001b[0m     etype: \u001b[39mtype\u001b[39m,\n\u001b[0;32m   (...)\u001b[0m\n\u001b[1;32m   1170\u001b[0m     number_of_lines_of_context: \u001b[39mint\u001b[39m \u001b[39m=\u001b[39m \u001b[39m5\u001b[39m,\n\u001b[1;32m   1171\u001b[0m ):\n\u001b[1;32m   1172\u001b[0m \u001b[39m    \u001b[39m\u001b[39m\"\"\"Return a nice text document describing the traceback.\"\"\"\u001b[39;00m\n\u001b[0;32m-> 1173\u001b[0m     formatted_exception \u001b[39m=\u001b[39m \u001b[39mself\u001b[39;49m\u001b[39m.\u001b[39;49mformat_exception_as_a_whole(etype, evalue, etb, number_of_lines_of_context,\n\u001b[1;32m   1174\u001b[0m                                                            tb_offset)\n\u001b[1;32m   1176\u001b[0m     colors \u001b[39m=\u001b[39m \u001b[39mself\u001b[39m\u001b[39m.\u001b[39mColors  \u001b[39m# just a shorthand + quicker name lookup\u001b[39;00m\n\u001b[1;32m   1177\u001b[0m     colorsnormal \u001b[39m=\u001b[39m colors\u001b[39m.\u001b[39mNormal  \u001b[39m# used a lot\u001b[39;00m\n",
      "File \u001b[0;32m~/Library/Python/3.9/lib/python/site-packages/IPython/core/ultratb.py:1063\u001b[0m, in \u001b[0;36mVerboseTB.format_exception_as_a_whole\u001b[0;34m(self, etype, evalue, etb, number_of_lines_of_context, tb_offset)\u001b[0m\n\u001b[1;32m   1060\u001b[0m \u001b[39massert\u001b[39;00m \u001b[39misinstance\u001b[39m(tb_offset, \u001b[39mint\u001b[39m)\n\u001b[1;32m   1061\u001b[0m head \u001b[39m=\u001b[39m \u001b[39mself\u001b[39m\u001b[39m.\u001b[39mprepare_header(\u001b[39mstr\u001b[39m(etype), \u001b[39mself\u001b[39m\u001b[39m.\u001b[39mlong_header)\n\u001b[1;32m   1062\u001b[0m records \u001b[39m=\u001b[39m (\n\u001b[0;32m-> 1063\u001b[0m     \u001b[39mself\u001b[39;49m\u001b[39m.\u001b[39;49mget_records(etb, number_of_lines_of_context, tb_offset) \u001b[39mif\u001b[39;00m etb \u001b[39melse\u001b[39;00m []\n\u001b[1;32m   1064\u001b[0m )\n\u001b[1;32m   1066\u001b[0m frames \u001b[39m=\u001b[39m []\n\u001b[1;32m   1067\u001b[0m skipped \u001b[39m=\u001b[39m \u001b[39m0\u001b[39m\n",
      "File \u001b[0;32m~/Library/Python/3.9/lib/python/site-packages/IPython/core/ultratb.py:1131\u001b[0m, in \u001b[0;36mVerboseTB.get_records\u001b[0;34m(self, etb, number_of_lines_of_context, tb_offset)\u001b[0m\n\u001b[1;32m   1129\u001b[0m \u001b[39mwhile\u001b[39;00m cf \u001b[39mis\u001b[39;00m \u001b[39mnot\u001b[39;00m \u001b[39mNone\u001b[39;00m:\n\u001b[1;32m   1130\u001b[0m     \u001b[39mtry\u001b[39;00m:\n\u001b[0;32m-> 1131\u001b[0m         mod \u001b[39m=\u001b[39m inspect\u001b[39m.\u001b[39mgetmodule(cf\u001b[39m.\u001b[39;49mtb_frame)\n\u001b[1;32m   1132\u001b[0m         \u001b[39mif\u001b[39;00m mod \u001b[39mis\u001b[39;00m \u001b[39mnot\u001b[39;00m \u001b[39mNone\u001b[39;00m:\n\u001b[1;32m   1133\u001b[0m             mod_name \u001b[39m=\u001b[39m mod\u001b[39m.\u001b[39m\u001b[39m__name__\u001b[39m\n",
      "\u001b[0;31mAttributeError\u001b[0m: 'tuple' object has no attribute 'tb_frame'"
     ]
    }
   ],
   "source": [
    "import time, sys\n",
    "indent = 0 # How many spaces to indent.\n",
    "indentIncreasing = True # Whether the indentation is increasing or not.\n",
    "\n",
    "try:\n",
    "    while True: # The main program loop.\n",
    "        print(' ' * indent, end='')\n",
    "        print('********')\n",
    "        time.sleep(0.1) # Pause for 1/10 of a second.\n",
    "        \n",
    "        if indentIncreasing:\n",
    "            # Increase the number of spaces:\n",
    "            indent = indent + 1\n",
    "            if indent == 20:\n",
    "                # Change direction:\n",
    "                indentIncreasing = False\n",
    "        else:\n",
    "            # Decrease the number of spaces:\n",
    "            indent = indent - 1\n",
    "            if indent == 0:\n",
    "                # Change direction:\n",
    "                indentIncreasing = True\n",
    "except KeyboardInterrupt:\n",
    "    sys.exit()"
   ]
  },
  {
   "cell_type": "code",
   "execution_count": null,
   "metadata": {},
   "outputs": [],
   "source": [
    "Our program uses two variables: the indent variable keeps track of how many spaces of indentation are\n",
    "before the band of eight asterisks and indentIncreasing contains a Boolean\n",
    "value to determine if the amount of indentation is increasing or decreasing"
   ]
  },
  {
   "cell_type": "markdown",
   "metadata": {},
   "source": [
    "## Practice Questions"
   ]
  },
  {
   "cell_type": "markdown",
   "metadata": {},
   "source": [
    "1. Why are functions advantageous to have in your programs?\n",
    "\n",
    "Functions reduce the need for duplicate code. This makes programs\n",
    "shorter, easier to read, and easier to update."
   ]
  },
  {
   "cell_type": "markdown",
   "metadata": {},
   "source": [
    "2. When does the code in a function execute: when the function is\n",
    "defined or when the function is called?\n",
    "\n",
    "The code in a function executes when the function is called, not when\n",
    "the function is defined"
   ]
  },
  {
   "cell_type": "markdown",
   "metadata": {},
   "source": [
    "3. What statement creates a function?\n",
    "The def statement defines (that is, creates) a function."
   ]
  },
  {
   "cell_type": "markdown",
   "metadata": {},
   "source": [
    "4. What is the difference between a function and a function call?\n",
    "A function consists of the def statement and the code in its def clause. A\n",
    "function call is what moves the program execution into the function, and\n",
    "the function call evaluates to the function’s return value."
   ]
  },
  {
   "cell_type": "markdown",
   "metadata": {},
   "source": [
    "5. How many global scopes are there in a Python program? How many\n",
    "local scopes?\n",
    "There is one global scope, and a local scope is created whenever a\n",
    "function is called."
   ]
  },
  {
   "cell_type": "markdown",
   "metadata": {},
   "source": [
    "6. What happens to variables in a local scope when the function\n",
    "call returns?\n",
    "When a function returns, the local scope is destroyed, and all the\n",
    "variables in it are forgotten."
   ]
  },
  {
   "cell_type": "markdown",
   "metadata": {},
   "source": [
    "7. What is a return value? Can a return value be part of an expression?\n",
    "A return value is the value that a function call evaluates to. Like any\n",
    "value, a return value can be used as part of an expression"
   ]
  },
  {
   "cell_type": "markdown",
   "metadata": {},
   "source": [
    "8. If a function does not have a return statement, what is the return\n",
    "value of a call to that function?\n",
    "If there is no return statement for a function, its return value is None."
   ]
  },
  {
   "cell_type": "markdown",
   "metadata": {},
   "source": [
    "9. How can you force a variable in a function to refer to the\n",
    "global variable?\n",
    "\n",
    "A global statement will force a variable in a function to refer to the\n",
    "global variable."
   ]
  },
  {
   "cell_type": "markdown",
   "metadata": {},
   "source": [
    "10. What is the data type of None?\n",
    "The data type of None is NoneType"
   ]
  },
  {
   "cell_type": "markdown",
   "metadata": {},
   "source": [
    "11. What does the import areallyourpetsnamederic statement do?\n",
    ". That import statement imports a module named areallyourpetsnamederic.\n",
    "(This isn’t a real Python module, by the way.)"
   ]
  },
  {
   "cell_type": "markdown",
   "metadata": {},
   "source": [
    "12. If you had a function named bacon() in a module named spam, how\n",
    "would you call it after importing spam?\n",
    "This function could be called with spam.bacon()."
   ]
  },
  {
   "cell_type": "markdown",
   "metadata": {},
   "source": [
    "13. How can you prevent a program from crashing when it gets an error?\n",
    "Place the line of code that might cause an error in a try clause"
   ]
  },
  {
   "cell_type": "markdown",
   "metadata": {},
   "source": [
    "14. What goes in the try clause? What goes in the except clause?\n",
    "The code that could potentially cause an error goes in the try clause. The\n",
    "code that executes if an error happens goes in the except clause."
   ]
  },
  {
   "cell_type": "markdown",
   "metadata": {},
   "source": [
    "## Part 4 - LISTS"
   ]
  },
  {
   "cell_type": "code",
   "execution_count": 15,
   "metadata": {},
   "outputs": [
    {
     "data": {
      "text/plain": [
       "'The bat ate the cat.'"
      ]
     },
     "execution_count": 15,
     "metadata": {},
     "output_type": "execute_result"
    }
   ],
   "source": [
    "# accessing values in lists [0] = first element\n",
    "spam = ['cat', 'bat', 'rat', 'elephant']\n",
    "'The ' + spam[1] + ' ate the ' + spam[0] + '.'"
   ]
  },
  {
   "cell_type": "code",
   "execution_count": 16,
   "metadata": {},
   "outputs": [
    {
     "data": {
      "text/plain": [
       "['cat', 'bat']"
      ]
     },
     "execution_count": 16,
     "metadata": {},
     "output_type": "execute_result"
    }
   ],
   "source": [
    "# this is a list of a list\n",
    "spam = [['cat', 'bat'], [10, 20, 30, 40, 50]]\n",
    "spam[0]\n"
   ]
  },
  {
   "cell_type": "code",
   "execution_count": 17,
   "metadata": {},
   "outputs": [
    {
     "data": {
      "text/plain": [
       "'elephant'"
      ]
     },
     "execution_count": 17,
     "metadata": {},
     "output_type": "execute_result"
    }
   ],
   "source": [
    "spam = ['cat', 'bat', 'rat', 'elephant']\n",
    "spam[-1] # last element"
   ]
  },
  {
   "cell_type": "code",
   "execution_count": 18,
   "metadata": {},
   "outputs": [
    {
     "data": {
      "text/plain": [
       "['bat', 'rat', 'elephant']"
      ]
     },
     "execution_count": 18,
     "metadata": {},
     "output_type": "execute_result"
    }
   ],
   "source": [
    "spam = ['cat', 'bat', 'rat', 'elephant']\n",
    "spam[1:4] #start index 1 and finish index 3 - here we only have index 3 so takes all"
   ]
  },
  {
   "cell_type": "code",
   "execution_count": 19,
   "metadata": {},
   "outputs": [
    {
     "data": {
      "text/plain": [
       "['cat', 'bat', 'rat']"
      ]
     },
     "execution_count": 19,
     "metadata": {},
     "output_type": "execute_result"
    }
   ],
   "source": [
    "spam = ['cat', 'bat', 'rat', 'elephant']\n",
    "spam[0:-1] #start index 0 and fnish at last index(not including)"
   ]
  },
  {
   "cell_type": "code",
   "execution_count": 20,
   "metadata": {},
   "outputs": [
    {
     "data": {
      "text/plain": [
       "['cat', 'bat']"
      ]
     },
     "execution_count": 20,
     "metadata": {},
     "output_type": "execute_result"
    }
   ],
   "source": [
    "spam = ['cat', 'bat', 'rat', 'elephant']\n",
    "spam[:2] #start index 0 and finish index 2 (not inc)"
   ]
  },
  {
   "cell_type": "code",
   "execution_count": 21,
   "metadata": {},
   "outputs": [
    {
     "data": {
      "text/plain": [
       "4"
      ]
     },
     "execution_count": 21,
     "metadata": {},
     "output_type": "execute_result"
    }
   ],
   "source": [
    "spam = ['cat', 'bat', 'rat', 'elephant']\n",
    "len(spam)"
   ]
  },
  {
   "cell_type": "code",
   "execution_count": 22,
   "metadata": {},
   "outputs": [
    {
     "data": {
      "text/plain": [
       "[1, 2, 3, 'A', 'B', 'C']"
      ]
     },
     "execution_count": 22,
     "metadata": {},
     "output_type": "execute_result"
    }
   ],
   "source": [
    "[1, 2, 3] + ['A', 'B', 'C'] # concatinates the lists into a new list"
   ]
  },
  {
   "cell_type": "code",
   "execution_count": null,
   "metadata": {},
   "outputs": [],
   "source": [
    "# removing values in list\n",
    "spam = ['cat', 'bat', 'rat', 'elephant']\n",
    "del spam[2]\n",
    "spam"
   ]
  },
  {
   "cell_type": "markdown",
   "metadata": {},
   "source": [
    "When you first begin writing programs, it’s tempting to create many individual variables to store a group of similar values. For example, if I wanted\n",
    "to store the names of my cats, I might be tempted to write code like this:"
   ]
  },
  {
   "cell_type": "code",
   "execution_count": null,
   "metadata": {},
   "outputs": [],
   "source": [
    "catName1 = 'Zophie'\n",
    "catName2 = 'Pooka'\n",
    "catName3 = 'Simon'\n",
    "catName4 = 'Lady Macbeth'\n",
    "catName5 = 'Fat-tail'\n",
    "catName6 = 'Miss Cleo'\n",
    "\n",
    "#if the number of cats changes, your program will never be able to store more cats than you have variables.\n",
    "# These types of programs also have a lot of duplicate or nearly identical code in them."
   ]
  },
  {
   "cell_type": "code",
   "execution_count": 5,
   "metadata": {},
   "outputs": [
    {
     "name": "stdout",
     "output_type": "stream",
     "text": [
      "Enter the name of cat 1 (Or enter nothing to stop.):\n",
      "Enter the name of cat 2 (Or enter nothing to stop.):\n",
      "Enter the name of cat 3 (Or enter nothing to stop.):\n",
      "Enter the name of cat 4 (Or enter nothing to stop.):\n",
      "Enter the name of cat 5 (Or enter nothing to stop.):\n",
      "Enter the name of cat 6 (Or enter nothing to stop.):\n",
      "The cat names are:\n",
      "a\n",
      "b\n",
      "c\n",
      "d\n",
      "e\n"
     ]
    },
    {
     "data": {
      "text/plain": [
       "['a', 'b', 'c', 'd', 'e']"
      ]
     },
     "execution_count": 5,
     "metadata": {},
     "output_type": "execute_result"
    }
   ],
   "source": [
    "# Instead of using multiple, repetitive variables, you can use a single\n",
    "# variable that contains a list value.\n",
    "\n",
    "catNames = [] #start off with blank list that can store any number cats\n",
    "while True:\n",
    "    print('Enter the name of cat ' + str(len(catNames) + 1) +\n",
    "        ' (Or enter nothing to stop.):')\n",
    "    name = input()\n",
    "    if name == '':\n",
    "        break\n",
    "    catNames = catNames + [name] # list concatenation\n",
    "\n",
    "print('The cat names are:')\n",
    "for name in catNames:\n",
    "    print(name)\n",
    "\n",
    "catNames"
   ]
  },
  {
   "cell_type": "code",
   "execution_count": null,
   "metadata": {},
   "outputs": [],
   "source": [
    "# using for loops with lists\n",
    " \n",
    "# equivilant loops  \n",
    "\n",
    "for i in range(4): #range type\n",
    "    print(i)\n",
    "\n",
    "for i in [0, 1, 2, 3]: #list type\n",
    "    print(i)"
   ]
  },
  {
   "cell_type": "code",
   "execution_count": 6,
   "metadata": {},
   "outputs": [
    {
     "name": "stdout",
     "output_type": "stream",
     "text": [
      "Index 0 in supplies is: pens\n",
      "Index 1 in supplies is: staplers\n",
      "Index 2 in supplies is: flamethrowers\n",
      "Index 3 in supplies is: binders\n"
     ]
    }
   ],
   "source": [
    "supplies = ['pens', 'staplers', 'flamethrowers', 'binders']\n",
    "for i in range(len(supplies)):\n",
    "    print('Index ' + str(i) + ' in supplies is: ' + supplies[i])"
   ]
  },
  {
   "cell_type": "markdown",
   "metadata": {},
   "source": [
    "Using range(len(supplies)) in the previously shown for loop is handy because the code in the loop can access the index (as the variable i) and the value at that index "
   ]
  },
  {
   "cell_type": "code",
   "execution_count": 7,
   "metadata": {},
   "outputs": [
    {
     "name": "stdout",
     "output_type": "stream",
     "text": [
      "Index 0 in supplies is: stapliers\n",
      "Index 1 in supplies is: pens\n",
      "Index 2 in supplies is: flamethrowers\n",
      "Index 3 in supplies is: binders\n"
     ]
    }
   ],
   "source": [
    "supplies = ['stapliers', 'pens', 'flamethrowers', 'binders']\n",
    "for index, item in enumerate(supplies):\n",
    "    print('Index ' + str(index) + ' in supplies is: ' + item)"
   ]
  },
  {
   "cell_type": "markdown",
   "metadata": {},
   "source": [
    "Instead of using the range(len(someList)) technique with a for loop to obtain the integer index of the items in the list, you can call the enumerate() function instead."
   ]
  },
  {
   "cell_type": "code",
   "execution_count": 8,
   "metadata": {},
   "outputs": [
    {
     "data": {
      "text/plain": [
       "True"
      ]
     },
     "execution_count": 8,
     "metadata": {},
     "output_type": "execute_result"
    }
   ],
   "source": [
    "'howdy' in ['hello', 'hi', 'howdy', 'heyas']"
   ]
  },
  {
   "cell_type": "code",
   "execution_count": null,
   "metadata": {},
   "outputs": [],
   "source": [
    "spam = ['hello', 'hi', 'howdy', 'heyas']\n",
    "'cat' not in spam"
   ]
  },
  {
   "cell_type": "code",
   "execution_count": null,
   "metadata": {},
   "outputs": [],
   "source": [
    "myPets = ['zzophie', 'ooka', 'fat-tail']\n",
    "print('Enter a pet name')\n",
    "name = input()\n",
    "if name not in myPets:\n",
    "    print('I do not have a pet named' + name)\n",
    "else:\n",
    "    print(name + 'is my pet')"
   ]
  },
  {
   "cell_type": "code",
   "execution_count": null,
   "metadata": {},
   "outputs": [],
   "source": [
    "# The multiple assignment trick (technically called tuple unpacking) is a shortcut\n",
    "# that lets you assign multiple variables with the values in a list in one line ofcode.\n",
    "\n",
    "# instead of doing this:\n",
    "cat = ['fat', 'gray', 'loud']\n",
    "size = cat[0]\n",
    "colour = cat[1]\n",
    "disposition = cat[2]"
   ]
  },
  {
   "cell_type": "code",
   "execution_count": null,
   "metadata": {},
   "outputs": [],
   "source": [
    "cat = ['fat', 'gray', 'loud']\n",
    "size, colour, disposition = cat"
   ]
  },
  {
   "cell_type": "code",
   "execution_count": null,
   "metadata": {},
   "outputs": [],
   "source": [
    "#The random.choice() function will return a randomly selected item from the list.\n",
    "\n",
    "import random\n",
    "pets = ['Dog', 'Cat', 'Moose']\n",
    "random.choice(pets)"
   ]
  },
  {
   "cell_type": "code",
   "execution_count": null,
   "metadata": {},
   "outputs": [],
   "source": [
    "#The random.shuffle() function will reorder the items in a list.\n",
    "people = ['Alice', 'Bob', 'Carol', 'David']\n",
    "random.shuffle(people)\n",
    "people"
   ]
  },
  {
   "cell_type": "code",
   "execution_count": null,
   "metadata": {},
   "outputs": [],
   "source": [
    "# List values have an index() method that can be passed a value, and if that\n",
    "# value exists in the list, the index of the value is returned. If the value isn’t\n",
    "# in the list, then Python produces a ValueError error\n",
    "football_team = ['arsenal', 'chelsea', 'city', 'man united', 'fulham']\n",
    "football_team.index('city')"
   ]
  },
  {
   "cell_type": "code",
   "execution_count": null,
   "metadata": {},
   "outputs": [],
   "source": [
    "football_team.insert(1,'Brighton')\n",
    "football_team"
   ]
  },
  {
   "cell_type": "code",
   "execution_count": null,
   "metadata": {},
   "outputs": [],
   "source": [
    "football_team.remove('arsenal')\n",
    "football_team"
   ]
  },
  {
   "cell_type": "code",
   "execution_count": null,
   "metadata": {},
   "outputs": [],
   "source": [
    "# sort() uses “ASCIIbetical order” rather than actual alphabetical\n",
    "# order for sorting strings. This means uppercase letters come before lowercase letters.\n",
    "football_team.sort()\n",
    "football_team"
   ]
  },
  {
   "cell_type": "code",
   "execution_count": null,
   "metadata": {},
   "outputs": [],
   "source": [
    "#augumented assignment operators\n",
    "spam = 'hello'\n",
    "spam += ' world'\n",
    "spam"
   ]
  },
  {
   "cell_type": "code",
   "execution_count": null,
   "metadata": {},
   "outputs": [],
   "source": [
    "bacon = ['zombie']\n",
    "bacon *= 3\n",
    "bacon"
   ]
  },
  {
   "cell_type": "code",
   "execution_count": null,
   "metadata": {},
   "outputs": [],
   "source": [
    "# sort() uses “ASCIIbetical order” rather than actual alphabetical\n",
    "# order for sorting strings. This means uppercase letters come before lowercase letters\n",
    "teams = ['arsenal', 'Chelsea', 'city', 'Man united', 'fulham']\n",
    "teams.sort()\n",
    "teams"
   ]
  },
  {
   "cell_type": "code",
   "execution_count": null,
   "metadata": {},
   "outputs": [],
   "source": [
    "teams.sort(key=str.lower) #pass key=str.lower arguement\n",
    "teams"
   ]
  },
  {
   "cell_type": "code",
   "execution_count": null,
   "metadata": {},
   "outputs": [],
   "source": [
    "teams.reverse() \n",
    "teams"
   ]
  },
  {
   "cell_type": "code",
   "execution_count": null,
   "metadata": {},
   "outputs": [],
   "source": [
    "# identation does not matter for lists as python knows lst is not finished until final square bracket\n",
    "spam = ['apples',\n",
    "                'oranges',\n",
    "'bananas',\n",
    "        'cats']\n",
    "print(spam)"
   ]
  },
  {
   "cell_type": "code",
   "execution_count": 9,
   "metadata": {},
   "outputs": [
    {
     "name": "stdout",
     "output_type": "stream",
     "text": [
      "Outlook not so good\n"
     ]
    }
   ],
   "source": [
    "# Instead of several lines of nearly identical elif statements, you can create a single list that the code works with\n",
    "\n",
    "import random\n",
    "\n",
    "messages = ['It is certain',\n",
    "    'It is decidedly so',\n",
    "    'Yes definitely',\n",
    "    'Reply hazy try again',\n",
    "    'Ask again later',\n",
    "    'Concentrate and ask again',\n",
    "    'My reply is no',\n",
    "    'Outlook not so good',\n",
    "    'Very doubtful']\n",
    "\n",
    "print(messages[random.randint(0, len(messages) - 1)]) # -1 as index starts at 0 in list "
   ]
  },
  {
   "cell_type": "code",
   "execution_count": null,
   "metadata": {},
   "outputs": [],
   "source": [
    "name = 'Jordan'\n",
    "for i in name:\n",
    "    print('* * * ' + i + ' * * *')"
   ]
  },
  {
   "cell_type": "code",
   "execution_count": null,
   "metadata": {},
   "outputs": [],
   "source": [
    "sentence = 'jordan is great'\n",
    "sentence[0] = 'hello '\n",
    "# strings are not mutable but lists are - i.e. strings cannot be changed"
   ]
  },
  {
   "cell_type": "code",
   "execution_count": null,
   "metadata": {},
   "outputs": [],
   "source": [
    "# a way around this is to concantinate to build a new string\n",
    "new_sentence = sentence[0:7] + 'can be ' + sentence[10:15]\n",
    "new_sentence"
   ]
  },
  {
   "cell_type": "code",
   "execution_count": 10,
   "metadata": {},
   "outputs": [
    {
     "data": {
      "text/plain": [
       "[4, 5, 6]"
      ]
     },
     "execution_count": 10,
     "metadata": {},
     "output_type": "execute_result"
    }
   ],
   "source": [
    "eggs = [1, 2, 3]\n",
    "del eggs[2] # delete 3rd value\n",
    "del eggs[1] # delete 2nd value\n",
    "del eggs[0] # delete 1st value\n",
    "eggs.append(4) # insert 4 in first value\n",
    "eggs.append(5) # next insert 5\n",
    "eggs.append(6) # next insert 6\n",
    "eggs"
   ]
  },
  {
   "cell_type": "code",
   "execution_count": null,
   "metadata": {},
   "outputs": [],
   "source": [
    "Arsenal = ('2nd', 84, 45) # tuple as parenthesis with comma after 1st value - tuples cannot have their values modified i.e. not immutable\n",
    "Arsenal[0] = '1st'"
   ]
  },
  {
   "cell_type": "code",
   "execution_count": null,
   "metadata": {},
   "outputs": [],
   "source": [
    "# check data type\n",
    "type((Arsenal))"
   ]
  },
  {
   "cell_type": "code",
   "execution_count": null,
   "metadata": {},
   "outputs": [],
   "source": [
    "Today = 'Thursday'\n",
    "type((Today))"
   ]
  },
  {
   "cell_type": "code",
   "execution_count": null,
   "metadata": {},
   "outputs": [],
   "source": [
    "# converting a tuple to a list is handy if you need a mutable version of a tuple value\n",
    "Arsenal_list = list(('2nd', 84, 45))\n",
    "Arsenal_list"
   ]
  },
  {
   "cell_type": "code",
   "execution_count": null,
   "metadata": {},
   "outputs": [],
   "source": [
    " # referencing in python\n",
    "spam = [0, 1, 2, 3, 4, 5]\n",
    "cheese = spam # The reference is being copied, not the list.\n",
    "cheese[1] = 'Hello!' # This changes the list value.\n",
    "spam"
   ]
  },
  {
   "cell_type": "code",
   "execution_count": null,
   "metadata": {},
   "outputs": [],
   "source": [
    "cheese # The cheese variable refers to the same list."
   ]
  },
  {
   "cell_type": "code",
   "execution_count": null,
   "metadata": {},
   "outputs": [],
   "source": [
    "#References are particularly important for understanding how arguments\n",
    "#get passed to functions. When a function is called, the values of the arguments are copied to the parameter variables\n",
    "\n",
    "def eggs(someParameter):\n",
    "    someParameter.append('Hello')\n",
    "    \n",
    "spam = [1, 2, 3]\n",
    "eggs(spam)\n",
    "print(spam)\n",
    "\n",
    "#Notice that when eggs() is called, a return value is not used to assign a\n",
    "#new value to spam. Instead, it modifies the list in place, directly. "
   ]
  },
  {
   "cell_type": "markdown",
   "metadata": {},
   "source": [
    "Conway’s Game of Life is an example of cellular automata: a set of rules\n",
    "governing the behavior of a field made up of discrete cells. In practice, it\n",
    "creates a pretty animation to look at. You can draw out each step on graph\n",
    "paper, using the squares as cells. A filled-in square will be “alive” and an\n",
    "empty square will be “dead.” If a living square has two or three living neighbors, it continues to live on the next step. If a dead square has exactly three\n",
    "living neighbors, it comes alive on the next step. Every other square dies or\n",
    "remains dead on the next step"
   ]
  },
  {
   "cell_type": "code",
   "execution_count": null,
   "metadata": {},
   "outputs": [],
   "source": [
    "\n",
    "# Conway's Game of Life\n",
    "import random, time, copy\n",
    "WIDTH = 60\n",
    "HEIGHT = 20\n",
    "\n",
    "# Create a list of list for the cells:\n",
    "nextCells = []\n",
    "for x in range(WIDTH):\n",
    "    column = [] # Create a new column.\n",
    "    for y in range(HEIGHT):\n",
    "        if random.randint(0, 1) == 0:\n",
    "            column.append('#') # Add a living cell.\n",
    "        else:\n",
    "            column.append(' ') # Add a dead cell.\n",
    "    nextCells.append(column) # nextCells is a list of column lists.\n",
    "    \n",
    "while True: # Main program loop.\n",
    "    print('\\n\\n\\n\\n\\n') # Separate each step with newlines.\n",
    "    currentCells = copy.deepcopy(nextCells)\n",
    "    \n",
    "    # Print currentCells on the screen:\n",
    "    for y in range(HEIGHT):\n",
    "        for x in range(WIDTH):\n",
    "            print(currentCells[x][y], end='') # Print the # or space.\n",
    "        print() # Print a newline at the end of the row.\n",
    "\n",
    "# Calculate the next step's cells based on current step's cells:\n",
    "for x in range(WIDTH):\n",
    "    for y in range(HEIGHT):\n",
    "        # Get neighboring coordinates:\n",
    "        # `% WIDTH` ensures leftCoord is always between 0 and WIDTH - 1\n",
    "        leftCoord = (x - 1) % WIDTH\n",
    "        rightCoord = (x + 1) % WIDTH\n",
    "        aboveCoord = (y - 1) % HEIGHT\n",
    "        belowCoord = (y + 1) % HEIGHT\n",
    "    \n",
    "    # Count number of living neighbors:\n",
    "    numNeighbors = 0\n",
    "    if currentCells[leftCoord][aboveCoord] == '#':\n",
    "        numNeighbors += 1 # Top-left neighbor is alive.\n",
    "    if currentCells[x][aboveCoord] == '#':\n",
    "        numNeighbors += 1 # Top neighbor is alive.\n",
    "    if currentCells[rightCoord][aboveCoord] == '#':\n",
    "        numNeighbors += 1 # Top-right neighbor is alive.\n",
    "    if currentCells[leftCoord][y] == '#':\n",
    "        numNeighbors += 1 # Left neighbor is alive.\n",
    "    if currentCells[rightCoord][y] == '#':\n",
    "        numNeighbors += 1 # Right neighbor is alive.\n",
    "    if currentCells[leftCoord][belowCoord] == '#':\n",
    "        numNeighbors += 1 # Bottom-left neighbor is alive.\n",
    "    if currentCells[x][belowCoord] == '#':\n",
    "        numNeighbors += 1 # Bottom neighbor is alive.\n",
    "    if currentCells[rightCoord][belowCoord] == '#':\n",
    "        numNeighbors += 1 # Bottom-right neighbor is alive.\n",
    "        \n",
    "    # Set cell based on Conway's Game of Life rules:\n",
    "        if currentCells[x][y] == '#' and (numNeighbors == 2 or numNeighbors == 3):\n",
    "            # Living cells with 2 or 3 neighbors stay alive:\n",
    "            nextCells[x][y] = '#'\n",
    "        elif currentCells[x][y] == ' ' and numNeighbors == 3:\n",
    "            # Dead cells with 3 neighbors become alive:\n",
    "            nextCells[x][y] = '#'\n",
    "        else:\n",
    "        # Everything else dies or stays dead:\n",
    "            nextCells[x][y] = ' '\n",
    "    time.sleep(1) # Add a 1-second pause to reduce flickering."
   ]
  },
  {
   "cell_type": "markdown",
   "metadata": {},
   "source": [
    "## Practice Questions"
   ]
  },
  {
   "cell_type": "markdown",
   "metadata": {},
   "source": [
    "1. What is []? - List whihc is empty\n",
    "2. How would you assign the value 'hello' as the third value in a list stored in a variable named spam? (Assume spam contains [2, 4, 6, 8, 10].) - spam[2] = 'hello'\n",
    "\n",
    "For the following three questions, let’s say spam contains the list ['a',\n",
    "'b', 'c', 'd']. \n",
    "\n",
    "3. What does spam[int(int('3' * 2) // 11)] evaluate to? - d (floor division) i.e. int only no remainder so 33/11 (As first part is string)\n",
    "4. What does spam[-1] evaluate to? - d\n",
    "5. What does spam[:2] evaluate to? - ['a', 'b']\n",
    "For the following three questions, let’s say bacon contains the list\n",
    "[3.14, 'cat', 11, 'cat', True].\n",
    "6. What does bacon.index('cat') evaluate to? - 1\n",
    "7. What does bacon.append(99) make the list value in bacon look like? - [3.14, 'cat', 11, 'cat', True, 99]\n",
    "8. What does bacon.remove('cat') make the list value in bacon look like? - [3.14, 11, 'cat', True] takes 1st occurance 'cat' out\n",
    "9. What are the operators for list concatenation and list replication? - list concatination = +, replication = *\n",
    "10. What is the difference between the append() and insert() list methods? - append adds value at end of list in this case, while insert can allow you to insert a value anywhere in the list\n",
    "11. What are two ways to remove values from a list? - remove.() and del var_name[]\n",
    "12. Name a few ways that list values are similar to string values. - Both lists and strings can be passed to len(), have indexes and slices, be used in for loops, be concatenated or replicated, and be used with the in and not in operators.\n",
    "13. What is the difference between lists and tuples? - list are immutable while tuples are not, tuples parethesis list have square brackets\n",
    "14. How do you type the tuple value that has just the integer value 42 in it? - (42,) i.e. make sure to leave comma after 42\n",
    "15. How can you get the tuple form of a list value? - tuple() How can you get the list form of a tuple value? list()\n",
    "16. Variables that “contain” list values don’t actually contain lists directly. What do they contain instead? - contain references to list values\n",
    "17. What is the difference between copy.copy() and copy.deepcopy()? - The copy.copy() function will do a shallow copy of a list, while the copy.deepcopy() function will do a deep copy of a list. That is, only copy .deepcopy() will duplicate any lists inside the list."
   ]
  },
  {
   "cell_type": "markdown",
   "metadata": {},
   "source": [
    "## Part 5 - Dictionaries and structuring data"
   ]
  },
  {
   "cell_type": "code",
   "execution_count": null,
   "metadata": {},
   "outputs": [],
   "source": [
    "myCat = {'size': 'fat', 'color': 'gray', 'disposition': 'loud'} # key = size, value = fat\n",
    "'My cat is very ' + myCat['disposition'] + ' and he is ' + myCat['color'] + ' in colour'"
   ]
  },
  {
   "cell_type": "code",
   "execution_count": null,
   "metadata": {},
   "outputs": [],
   "source": [
    "# items in dictionaries are unordered i.e. first item in spam would be spam[0] but there would ne no first item in dictionary\n",
    "eggs = {'name': 'Zophie', 'species': 'cat', 'age': '8'}\n",
    "ham = {'species': 'cat', 'age': '8', 'name': 'Zophie'}\n",
    "eggs == ham"
   ]
  },
  {
   "cell_type": "code",
   "execution_count": null,
   "metadata": {},
   "outputs": [],
   "source": [
    "list(eggs) # order of key value pairs remembered"
   ]
  },
  {
   "cell_type": "code",
   "execution_count": null,
   "metadata": {},
   "outputs": [],
   "source": [
    "#Because dictionaries are not ordered, they can’t be sliced like lists.\n",
    "#Trying to access a key that does not exist in a dictionary will result in a KeyError error message\n",
    "\n",
    "spam = {'name': 'Zophie', 'age': 7}\n",
    "spam['color']"
   ]
  },
  {
   "cell_type": "code",
   "execution_count": 13,
   "metadata": {},
   "outputs": [
    {
     "name": "stdout",
     "output_type": "stream",
     "text": [
      "Enter a name: (blank to quit)\n"
     ]
    }
   ],
   "source": [
    "#uses -  Say you wanted your program to store data about your friends’ birthdays. You can use\n",
    "#a dictionary with the names as keys and the birthdays as values\n",
    "\n",
    "birthdays = {'jordan': 'Sep 18', 'shannon': 'mar 10', 'hannah': 'apr 10'}\n",
    "while True:\n",
    "    print('Enter a name: (blank to quit)')\n",
    "    name = input()\n",
    "    if name == '':\n",
    "        break #exit the loop if name is blank\n",
    "    \n",
    "    if name in birthdays: # checks if name is in the dictionary\n",
    "        print(birthdays[name] + ' is the birthday date for ' + name)\n",
    "    else:\n",
    "        print('I do not have birthday information for' + name)\n",
    "        print('What is their birthday?')\n",
    "        bday = input()\n",
    "        birthdays[name] = bday # update dictionary with new name\n",
    "        print('Birthday database updated.')"
   ]
  },
  {
   "cell_type": "code",
   "execution_count": null,
   "metadata": {},
   "outputs": [],
   "source": [
    "# loop iterates over each of the values\n",
    "teams_colours = {'arsenal' : 'red', 'chelsea' : 'blue', 'tottenham': 'white'}\n",
    "for colours in teams_colours.values():\n",
    "    print(colours)"
   ]
  },
  {
   "cell_type": "code",
   "execution_count": null,
   "metadata": {},
   "outputs": [],
   "source": [
    "# loop iterates over each of the keys\n",
    "for teams in teams_colours.keys():\n",
    "    print(teams)"
   ]
  },
  {
   "cell_type": "code",
   "execution_count": null,
   "metadata": {},
   "outputs": [],
   "source": [
    "# loop iterates over each of the keys and value over each item\n",
    "for key_values in teams_colours.items():\n",
    "    print(key_values)"
   ]
  },
  {
   "cell_type": "code",
   "execution_count": null,
   "metadata": {},
   "outputs": [],
   "source": [
    "teams_colours.keys()"
   ]
  },
  {
   "cell_type": "code",
   "execution_count": null,
   "metadata": {},
   "outputs": [],
   "source": [
    "list(teams_colours.keys())"
   ]
  },
  {
   "cell_type": "code",
   "execution_count": null,
   "metadata": {},
   "outputs": [],
   "source": [
    "for key, value in teams_colours.items():\n",
    "    print('Key: ' + key + ' Value: ' + str(value))"
   ]
  },
  {
   "cell_type": "code",
   "execution_count": null,
   "metadata": {},
   "outputs": [],
   "source": [
    "# check if key is missing - you can do same with values\n",
    "'machester city' in teams_colours.keys()"
   ]
  },
  {
   "cell_type": "code",
   "execution_count": null,
   "metadata": {},
   "outputs": [],
   "source": [
    "#It’s tedious to check whether a key exists in a dictionary before accessing\n",
    "#that key’s value. Fortunately, dictionaries have a get() method that takes two\n",
    "\n",
    "golf_top5 = {'Scottie Scheffler': 1, 'Jon Rahm': 2, 'Rory McIlroy': 3, \n",
    "            'Patrick Cantlay': 4, 'Viktor Hovland': 5}\n",
    "'Scottie Scheffler is the number ' + str(golf_top5.get('Scottie Scheffler', 0)) + ' ranked golfer in the world'\n"
   ]
  },
  {
   "cell_type": "code",
   "execution_count": null,
   "metadata": {},
   "outputs": [],
   "source": [
    "# because tiger woods does not exist in the dictionary, without the get method it would have\n",
    "# caused an error\n",
    "golf_top5 = {'Scottie Scheffler': 1, 'Jon Rahm': 2, 'Rory McIlroy': 3, \n",
    "            'Patrick Cantlay': 4, 'Viktor Hovland': 5}\n",
    "'Toger Woods is the number ' + str(golf_top5.get('Tiger Woods', 0)) + ' ranked golfer in the world'"
   ]
  },
  {
   "cell_type": "code",
   "execution_count": null,
   "metadata": {},
   "outputs": [],
   "source": [
    "# add in tiger woods\n",
    "if 'Tiger Woods' not in golf_top5:\n",
    "    golf_top5['Tiger Woods'] = 1266\n",
    "golf_top5"
   ]
  },
  {
   "cell_type": "code",
   "execution_count": null,
   "metadata": {},
   "outputs": [],
   "source": [
    "# another way is set default method to do this in 1 line of code\n",
    "golf_top5.setdefault('Cameron Smith', 9)\n",
    "golf_top5"
   ]
  },
  {
   "cell_type": "code",
   "execution_count": null,
   "metadata": {},
   "outputs": [],
   "source": [
    "import pprint #import pretty printing package\n",
    "\n",
    "message = 'I need to be at Stansted airport by 4am on Friday 16th June.'\n",
    "count = {}\n",
    "\n",
    "for character in message:\n",
    "    count.setdefault(character, 0) #sets each character to 0 at start\n",
    "    count[character] = count[character] + 1\n",
    "pprint.pprint(count)\n",
    "\n",
    "# The setdefault() method call ensures that the key is in the count dictionary (with a default value\n",
    "# of 0) so the program doesn’t throw a KeyError error when count[character] = count[character] + 1 is executed\n",
    "\n",
    "# the output shows that the space appears 13 times, letter n appears 4 times, e 5 times .."
   ]
  },
  {
   "cell_type": "code",
   "execution_count": null,
   "metadata": {},
   "outputs": [],
   "source": [
    "# tic tac toe board which identifies a single dictionary with 9 key value pairs\n",
    "\n",
    "theBoard = {'top-L': 'x', 'top-M': 'o', 'top-R': 'x',\n",
    "            'mid-L': 'x', 'mid-M': 'o', 'mid-R': 'o',\n",
    "            'low-L': 'o', 'low-M': 'x', 'low-R': 'x'}\n",
    "# The data structure stored in the theBoard variable represents the tic-tactoe board\n",
    "print(theBoard)"
   ]
  },
  {
   "cell_type": "code",
   "execution_count": null,
   "metadata": {},
   "outputs": [],
   "source": [
    "theBoard = {'top-L': ' ', 'top-M': ' ', 'top-R': ' ',\n",
    "            'mid-L': ' ', 'mid-M': ' ', 'mid-R': ' ',\n",
    "            'low-L': ' ', 'low-M': ' ', 'low-R': ' '}\n",
    "\n",
    "def printBoard(board):\n",
    "    print(board['top-L'] + '|' + board['top-M'] + '|' + board['top-R'])\n",
    "    print('-+-+-')\n",
    "    print(board['mid-L'] + '|' + board['mid-M'] + '|' + board['mid-R'])\n",
    "    print('-+-+-')\n",
    "    print(board['low-L'] + '|' + board['low-M'] + '|' + board['low-R'])\n",
    "    \n",
    "printBoard(theBoard)"
   ]
  },
  {
   "cell_type": "code",
   "execution_count": null,
   "metadata": {},
   "outputs": [],
   "source": [
    "theBoard = {'top-L': 'x', 'top-M': 'o', 'top-R': 'x',\n",
    "            'mid-L': 'x', 'mid-M': 'o', 'mid-R': 'o',\n",
    "            'low-L': 'o', 'low-M': 'x', 'low-R': 'x'}\n",
    "\n",
    "def printBoard(board):\n",
    "    print(board['top-L'] + '|' + board['top-M'] + '|' + board['top-R'])\n",
    "    print('-+-+-')\n",
    "    print(board['mid-L'] + '|' + board['mid-M'] + '|' + board['mid-R'])\n",
    "    print('-+-+-')\n",
    "    print(board['low-L'] + '|' + board['low-M'] + '|' + board['low-R'])\n",
    "    \n",
    "printBoard(theBoard)"
   ]
  },
  {
   "cell_type": "code",
   "execution_count": null,
   "metadata": {},
   "outputs": [],
   "source": [
    "# Now let’s add code that allows the players to enter their moves.\n",
    "theBoard = {'top-L': ' ', 'top-M': ' ', 'top-R': ' ',\n",
    "            'mid-L': ' ', 'mid-M': ' ', 'mid-R': ' ',\n",
    "            'low-L': ' ', 'low-M': ' ', 'low-R': ' '}\n",
    "\n",
    "def printBoard(board):\n",
    "    print(board['top-L'] + '|' + board['top-M'] + '|' + board['top-R'])\n",
    "    print('-+-+-')\n",
    "    print(board['mid-L'] + '|' + board['mid-M'] + '|' + board['mid-R'])\n",
    "    print('-+-+-')\n",
    "    print(board['low-L'] + '|' + board['low-M'] + '|' + board['low-R'])\n",
    "    \n",
    "turn = 'x'\n",
    "for i in range(9):\n",
    "    printBoard(theBoard)\n",
    "    print('Turn for ' + turn + '. Move on which space?')\n",
    "    move = input()\n",
    "    theBoard[move] = turn\n",
    "    if turn == 'x':\n",
    "        turn = 'o'\n",
    "    else:\n",
    "        turn = 'x'\n",
    "printBoard(theBoard)\n",
    "\n",
    "# This isn’t a complete tic-tac-toe game—for instance, it doesn’t ever check whether a player has won"
   ]
  },
  {
   "cell_type": "code",
   "execution_count": null,
   "metadata": {},
   "outputs": [],
   "source": [
    "# As you model more complicated things, you may find you need dictionaries and lists that contain other dictionaries and lists.\n",
    "# For example, here’s a program that uses a dictionary that contains other dictionaries of what items guests are bringing to a picnic.\n",
    "\n",
    "allGuests = {'Alice': {'apples': 5, 'pretzels': 12},\n",
    "            'Bob': {'ham sandwiches': 3, 'apples': 2},\n",
    "            'Carol': {'cups': 3, 'apple pies': 1}}\n",
    "\n",
    "def totalBrought(guests, item):\n",
    "    numBrought = 0\n",
    "    for key, value in guests.items():\n",
    "        numBrought = numBrought + value.get(item, 0)\n",
    "    return numBrought\n",
    "\n",
    "print('Number of things being brought:')\n",
    "print(' - Apples ' + str(totalBrought(allGuests, 'apples')))\n",
    "print(' - Cups ' + str(totalBrought(allGuests, 'cups')))\n",
    "print(' - Cakes ' + str(totalBrought(allGuests, 'cakes')))\n",
    "print(' - Ham Sandwiches ' + str(totalBrought(allGuests, 'ham sandwiches')))\n",
    "print(' - Apple Pies ' + str(totalBrought(allGuests, 'apple pies')))"
   ]
  },
  {
   "cell_type": "markdown",
   "metadata": {},
   "source": [
    "1. What does the code for an empty dictionary look like? - {}\n",
    "2. What does a dictionary value with a key 'foo' and a value 42 look like? - dictonary = {'foo' : 42}\n",
    "3. What is the main difference between a dictionary and a list? - items stored in dictionaries are unordered while items in lists are ordered\n",
    "4. What happens if you try to access spam['foo'] if spam is {'bar': 100}? - key error\n",
    "5. If a dictionary is stored in spam, what is the difference between the expressions 'cat' in spam and 'cat' in spam.keys()? - no difference, the 'in' operator checks whether value exists as a key in the dictionray\n",
    "6. If a dictionary is stored in spam, what is the difference between the expressions 'cat' in spam and 'cat' in spam.values()? - cat is spam checks whether there is a cat key in dictionary whereas cat in spam.values checks whether cat exists as a value for one of the keys in spam \n",
    "7. What is a shortcut for the following code? if 'color' not in spam: spam['color'] = 'black' - spam.setdefault('color', 'black')\n",
    "8. What module and function can be used to “pretty print” dictionary values? - pprity.pprint()"
   ]
  },
  {
   "cell_type": "markdown",
   "metadata": {},
   "source": [
    "Chess Dictionary Validator\n",
    "1. In this chapter, we used the dictionary value {'1h': 'bking', '6c': 'wqueen','2g': 'bbishop', '5h': 'bqueen', '3e': 'wking'} to represent a chess board.\n",
    "\n",
    "2. Write a function named isValidChessBoard() that takes a dictionary argument and returns True or False depending on if the board is valid. A valid board will have exactly one black king and exactly one white king. Each player can only have at most 16 pieces, at most 8 pawns, and all pieces must be on a valid space from '1a' to '8h'; that is, a piece can’t be on space '9z'. The piece names begin with either a 'w' or 'b' to represent white or black, followed by 'pawn', 'knight', 'bishop', 'rook', 'queen', or 'king'. \n",
    "\n",
    "3. This function should detect when a bug has resulted in an improper chess board."
   ]
  },
  {
   "cell_type": "code",
   "execution_count": null,
   "metadata": {},
   "outputs": [],
   "source": [
    "def isValidChessBoard(board):\n",
    "    piecesCount = {'b': 0, 'w': 0}\n",
    "    pawnCount = {'b': 0, 'w': 0}\n",
    "    hasKing = {'b': False, 'w': False}\n",
    "    letterAxis = ('a','b','c','d','e','f','g','h')\n",
    "    pieceColour = ('b','w')\n",
    "    pieceType = ('pawn','knight','bishop','rook','queen','king')\n",
    "\n",
    "    #each player has <= 16 pieces\n",
    "    for pos, i in board.items():\n",
    "        \n",
    "        # check position value\n",
    "        #all pieces must be on valid space from '1a' to '8h'\n",
    "        if int(pos[0]) >= 9:\n",
    "            print('SpacesError')\n",
    "            return False\n",
    "\n",
    "        if pos[1] not in letterAxis:\n",
    "            print('yAxisError')\n",
    "            return False\n",
    "        \n",
    "         # check piece data\n",
    "        if i != \"\":\n",
    "            #piece names begin with 'w' or 'b'\n",
    "            if i[0] not in pieceColour:\n",
    "                print('WhiteOrBlackError')\n",
    "                return False\n",
    "\n",
    "            thisPieceColour = i[0]\n",
    "            piecesCount[thisPieceColour] += 1\n",
    "\n",
    "            if piecesCount[thisPieceColour] >= 17:\n",
    "                print('TotalPieceError')\n",
    "                return False\n",
    "\n",
    "            #piece names must follow with 'pawn', 'knight', 'bishop', 'rook', 'queen', 'king'\n",
    "            thisPieceType = i[1:]\n",
    "\n",
    "            if thisPieceType not in pieceType:\n",
    "                print('PieceTypeError')\n",
    "                return False\n",
    "            \n",
    "            elif thisPieceType == 'pawn':\n",
    "                pawnCount[thisPieceColour] += 1\n",
    "\n",
    "                #each player has <= 8 pawns\n",
    "                if pawnCount[thisPieceColour] >= 9:\n",
    "                    print('PawnError')\n",
    "                    return False\n",
    "\n",
    "            elif thisPieceType == 'king':\n",
    "                # one black king and one white king\n",
    "                if hasKing[thisPieceColour] == True:\n",
    "                    print(\"AlreadyHasKingError\")\n",
    "\n",
    "                hasKing[thisPieceColour] = True\n",
    "\n",
    "    if list(hasKing.values()) != [True, True]:\n",
    "        print(\"MissingKingError\")\n",
    "        return False\n",
    "\n",
    "    return 'This board checks out'\n",
    "\n",
    "board = {'1a': 'bking','2a': 'bqueen','3a': 'brook','4a': 'brook',\n",
    "        '5a': 'bknight','6a': 'bknight','7a':'bbishop','8a': 'bbishop',\n",
    "        '1b': 'bpawn','2b': 'bpawn','3b': 'bpawn','4b':'bpawn',\n",
    "        '5b': 'bpawn','6b': 'bpawn','7b': 'bpawn','8b': 'bpawn',\n",
    "        '1c': 'wking','2c': 'wqueen','3c': 'wrook','4c': 'wrook',\n",
    "        '5c': 'wbishop','6c': 'wbishop','7c': 'wknight','8c':'wknight',\n",
    "        '1e': 'wpawn','2e': 'wpawn','3e': 'wpawn','4e': 'wpawn',\n",
    "        '5e': 'wpawn','6e': 'wpawn','7e': 'wpawn','8e': 'wpawn',\n",
    "        '1f': '','2f': '','3f': '','4f': '','5f': '','6f': '','7f': '','8f': '',\n",
    "        '1g': '','2g': '','3g': '','4g': '','5g': '','6g': '','7g': '','8g': '',\n",
    "        '1h': '','2h': '','3h': '','4h': '','5h': '','6h': '','7h': '','8h': '',}\n",
    "\n",
    "print(isValidChessBoard(board))"
   ]
  },
  {
   "cell_type": "markdown",
   "metadata": {},
   "source": [
    "Fantasy Game Inventory\n",
    "You are creating a fantasy video game. The data structure to model the\n",
    "player’s inventory will be a dictionary where the keys are string values\n",
    "describing the item in the inventory and the value is an integer value\n",
    "detailing how many of that item the player has. For example, the dictionary value {'rope': 1, 'torch': 6, 'gold coin': 42, 'dagger': 1, 'arrow': 12}\n",
    "means the player has 1 rope, 6 torches, 42 gold coins, and so on.\n",
    "Write a function named displayInventory() that would take any possible\n",
    "“inventory” and display it like the following:\n",
    "Inventory:\n",
    "12 arrow\n",
    "42 gold coin\n",
    "1 rope\n",
    "6 torch\n",
    "1 dagger\n",
    "Total number of items: 62"
   ]
  },
  {
   "cell_type": "code",
   "execution_count": null,
   "metadata": {},
   "outputs": [],
   "source": [
    "Inventory_List = {'rope': 1, 'torch': 6, 'gold coin': 42, 'dagger': 1, 'arrow': 12}\n",
    "\n",
    "def display_inventory(inv):\n",
    "    print(f'Inventory:')\n",
    "    for key, value in inv.items():\n",
    "        total = sum(inv.values())\n",
    "        print(f'{value} {key}')\n",
    "    print(f'Total: {total} items')\n",
    "        \n",
    "display_inventory(Inventory_List)"
   ]
  },
  {
   "cell_type": "markdown",
   "metadata": {},
   "source": [
    "## Chapter 6 -  Maniuplating strings"
   ]
  },
  {
   "cell_type": "code",
   "execution_count": null,
   "metadata": {},
   "outputs": [],
   "source": [
    "\"There's a man next door\" #using double quotes means you can have single quote within string"
   ]
  },
  {
   "cell_type": "code",
   "execution_count": null,
   "metadata": {},
   "outputs": [],
   "source": [
    "print(\"Hello there!\\nHow are you?\\nI\\'m doing fine.\")\n",
    "\n",
    "#use escape characters to split up text\n",
    "#\\' Single quote\n",
    "#\\\" Double quote\n",
    "#\\t Tab\n",
    "#\\n Newline (line break)\n",
    "#\\\\ Backslash"
   ]
  },
  {
   "cell_type": "code",
   "execution_count": null,
   "metadata": {},
   "outputs": [],
   "source": [
    "print(r'That is Carol\\'s cat.')\n",
    "    \n",
    "#You can place an r before the beginning quotation mark of a string to\n",
    "#make it a raw string. A raw string completely ignores all escape characters\n",
    "#and prints any backslash that appears in the string."
   ]
  },
  {
   "cell_type": "code",
   "execution_count": null,
   "metadata": {},
   "outputs": [],
   "source": [
    "# A multiline string in Python begins and ends with either three single quotes or three double quotes. \n",
    "\n",
    "print('''Dear Alice,\n",
    "\n",
    "Eve's cat has been arrested for catnapping, cat burglary, and extortion.\n",
    "\n",
    "Sincerely,\n",
    "Bob''')"
   ]
  },
  {
   "cell_type": "code",
   "execution_count": null,
   "metadata": {},
   "outputs": [],
   "source": [
    "# equivilant text\n",
    "print('Dear Alice,\\n\\nEve\\'s cat has been arrested for catnapping, cat burglary, and extortion.\\n\\nSincerely,\\nBob')"
   ]
  },
  {
   "cell_type": "code",
   "execution_count": null,
   "metadata": {},
   "outputs": [],
   "source": [
    "\"\"\"This is a test Python program.\n",
    "Written by Al Sweigart al@inventwithpython.com\n",
    "\n",
    "This program was designed for Python 3, not Python 2.\n",
    "\"\"\""
   ]
  },
  {
   "cell_type": "code",
   "execution_count": null,
   "metadata": {},
   "outputs": [],
   "source": [
    "'Hello' in 'Hello, World'"
   ]
  },
  {
   "cell_type": "code",
   "execution_count": null,
   "metadata": {},
   "outputs": [],
   "source": [
    "# putting strings inside other strings - this requires a lot of tedious typing\n",
    "name = 'Jordan'\n",
    "age = 30\n",
    "'Hello my name is ' + name + ' i am ' + str(age) + ' years old.'"
   ]
  },
  {
   "cell_type": "code",
   "execution_count": null,
   "metadata": {},
   "outputs": [],
   "source": [
    "# use of f-strings\n",
    "f'my name is {name}. Next year I will be {age + 1} years old.'"
   ]
  },
  {
   "cell_type": "code",
   "execution_count": null,
   "metadata": {},
   "outputs": [],
   "source": [
    "# use of f-strings with %s operator - this is string extrapolation\n",
    "\n",
    "f'my name is %s. I am %s years old.'% (name, age) "
   ]
  },
  {
   "cell_type": "code",
   "execution_count": null,
   "metadata": {},
   "outputs": [],
   "source": [
    "fav_team = 'Arsenal'\n",
    "fav_team = fav_team.upper() #upper case chr\n",
    "fav_team"
   ]
  },
  {
   "cell_type": "code",
   "execution_count": null,
   "metadata": {},
   "outputs": [],
   "source": [
    "fav_team = fav_team.lower()\n",
    "fav_team"
   ]
  },
  {
   "cell_type": "code",
   "execution_count": null,
   "metadata": {},
   "outputs": [],
   "source": [
    "print('What is your name?')\n",
    "name = input()\n",
    "print(f'Hello {name}, how is your mood today?')\n",
    "feeling = input()\n",
    "if feeling.lower() == 'great':\n",
    "    print(''' i'm glad you're feeling good''')\n",
    "elif feeling.lower() == 'bad':\n",
    "    print('I hope you feel better')\n",
    "elif feeling.lower() == 'ok':\n",
    "    print('''that's good then''')\n",
    "else: \n",
    "    print('I hope the rest of your date goes well')"
   ]
  },
  {
   "cell_type": "code",
   "execution_count": 2,
   "metadata": {},
   "outputs": [
    {
     "data": {
      "text/plain": [
       "'HELLO'"
      ]
     },
     "execution_count": 2,
     "metadata": {},
     "output_type": "execute_result"
    }
   ],
   "source": [
    "'Hello'.upper().lower().upper()"
   ]
  },
  {
   "cell_type": "code",
   "execution_count": 1,
   "metadata": {},
   "outputs": [
    {
     "data": {
      "text/plain": [
       "'hello'"
      ]
     },
     "execution_count": 1,
     "metadata": {},
     "output_type": "execute_result"
    }
   ],
   "source": [
    "'Hello'.upper().lower().upper().lower()"
   ]
  },
  {
   "cell_type": "code",
   "execution_count": null,
   "metadata": {},
   "outputs": [],
   "source": [
    "'hello'.isalpha() #Returns True if the string consists only of letters and isn’t blank\n"
   ]
  },
  {
   "cell_type": "code",
   "execution_count": null,
   "metadata": {},
   "outputs": [],
   "source": [
    "'hel0879lo'.isalnum() #Returns True if the string consists only of letters and numbers and is not blank\n"
   ]
  },
  {
   "cell_type": "code",
   "execution_count": null,
   "metadata": {},
   "outputs": [],
   "source": [
    "'7979'.isdecimal() #Returns True if the string consists only of numeric characters and is not blank\n"
   ]
  },
  {
   "cell_type": "code",
   "execution_count": null,
   "metadata": {},
   "outputs": [],
   "source": [
    "'    '.isspace() #Returns True if the string consists only of spaces, tabs, and newlines and is not blank\n"
   ]
  },
  {
   "cell_type": "code",
   "execution_count": null,
   "metadata": {},
   "outputs": [],
   "source": [
    "'This Is A Title'.istitle() #Returns True if the string consists only of words that begin with an uppercase letter followed by only lowercase letters"
   ]
  },
  {
   "cell_type": "code",
   "execution_count": null,
   "metadata": {},
   "outputs": [],
   "source": [
    "', '.join(['Dior', 'Saint Laurent', 'Gucci'])"
   ]
  },
  {
   "cell_type": "code",
   "execution_count": null,
   "metadata": {},
   "outputs": [],
   "source": [
    "' '.join(['Dior', 'Saint Laurent', 'Gucci'])"
   ]
  },
  {
   "cell_type": "code",
   "execution_count": null,
   "metadata": {},
   "outputs": [],
   "source": [
    "' - '.join(['Dior', 'Saint Laurent', 'Gucci'])"
   ]
  },
  {
   "cell_type": "code",
   "execution_count": null,
   "metadata": {},
   "outputs": [],
   "source": [
    "'Dior, Saint Laurent, Gucci'.split() #split whenever there is a white space not good for saint laurent"
   ]
  },
  {
   "cell_type": "code",
   "execution_count": null,
   "metadata": {},
   "outputs": [],
   "source": [
    "'DiorabcSaintabcLaurentabcGucci'.split('abc')"
   ]
  },
  {
   "cell_type": "code",
   "execution_count": null,
   "metadata": {},
   "outputs": [],
   "source": [
    "# multiline string '''\n",
    "words = '''Dear Alice, \n",
    "\n",
    "How have you been? I am fine.\n",
    "\n",
    "There is a container in the fridge\n",
    "that is labeled \"Milk Experiment.\"\n",
    "Please do not drink it.\n",
    "\n",
    "Sincerely,\n",
    "Bob'''\n",
    "words.split('\\n') #\\n Newline (line break)"
   ]
  },
  {
   "cell_type": "code",
   "execution_count": null,
   "metadata": {},
   "outputs": [],
   "source": [
    "'hello, world!'.partition('world') #seperates world - returns a tuple of three substrings\n",
    "# for the “before,” “separator,” and “after” substrings."
   ]
  },
  {
   "cell_type": "code",
   "execution_count": null,
   "metadata": {},
   "outputs": [],
   "source": [
    "'hello, world!'.partition('w')"
   ]
  },
  {
   "cell_type": "code",
   "execution_count": null,
   "metadata": {},
   "outputs": [],
   "source": [
    "'hello, world!'.partition('xyz') #substring not found, then empty 2 strings"
   ]
  },
  {
   "cell_type": "code",
   "execution_count": null,
   "metadata": {},
   "outputs": [],
   "source": [
    "#You can use the multiple assignment trick to assign the three returned strings to three variables:\n",
    "\n",
    "before, sep, after = 'Hello, World!'.partition(' ')\n",
    "before #i.e. get the Hello\n"
   ]
  },
  {
   "cell_type": "code",
   "execution_count": null,
   "metadata": {},
   "outputs": [],
   "source": [
    "sep"
   ]
  },
  {
   "cell_type": "code",
   "execution_count": null,
   "metadata": {},
   "outputs": [],
   "source": [
    "after"
   ]
  },
  {
   "cell_type": "code",
   "execution_count": null,
   "metadata": {},
   "outputs": [],
   "source": [
    "'Arsenal'.rjust(30) #identifies spaces to the left of the word = 30"
   ]
  },
  {
   "cell_type": "code",
   "execution_count": null,
   "metadata": {},
   "outputs": [],
   "source": [
    "'Arsenal'.ljust(20) # spaces to the right of the word = 30"
   ]
  },
  {
   "cell_type": "code",
   "execution_count": null,
   "metadata": {},
   "outputs": [],
   "source": [
    "'Arsenal'.ljust(20, '-') #the fill chr i.e. - must be only 1 chr long"
   ]
  },
  {
   "cell_type": "code",
   "execution_count": null,
   "metadata": {},
   "outputs": [],
   "source": [
    "# These methods are especially useful when you need to print tabular\n",
    "# data that has correct spacing.\n",
    "\n",
    "def printshopping(itemsDict, leftwidth, rightwidth):\n",
    "    print('SHOPPING LIST'.center(leftwidth + rightwidth, '-'))\n",
    "    for key, value in itemsDict.items():\n",
    "        print(key.ljust(leftwidth, '.') + str(value).rjust(rightwidth))\n",
    "\n",
    "shoppinglist = {'capers': 1,\n",
    "               'coke cans': 6,\n",
    "               'apples': 5,\n",
    "               'raspberry': 2}\n",
    "printshopping(shoppinglist, 12,5) #these are left and right width values - can play around with them"
   ]
  },
  {
   "cell_type": "code",
   "execution_count": null,
   "metadata": {},
   "outputs": [],
   "source": [
    "spam = '     hello, world!     '\n",
    "spam.strip() #remove some spaces using strip"
   ]
  },
  {
   "cell_type": "code",
   "execution_count": null,
   "metadata": {},
   "outputs": [],
   "source": [
    "spam.lstrip()"
   ]
  },
  {
   "cell_type": "code",
   "execution_count": null,
   "metadata": {},
   "outputs": [],
   "source": [
    "spam.rstrip()"
   ]
  },
  {
   "cell_type": "code",
   "execution_count": 22,
   "metadata": {},
   "outputs": [
    {
     "data": {
      "text/plain": [
       "'Hello, world!'"
      ]
     },
     "execution_count": 22,
     "metadata": {},
     "output_type": "execute_result"
    }
   ],
   "source": [
    "#Copying and Pasting Strings with the pyperclip Module\n",
    "pyperclip.copy('Hello, world!')\n",
    "pyperclip.paste()"
   ]
  },
  {
   "cell_type": "code",
   "execution_count": 23,
   "metadata": {},
   "outputs": [
    {
     "name": "stdout",
     "output_type": "stream",
     "text": [
      "There is no text for -f\n"
     ]
    }
   ],
   "source": [
    "TEXT = {'agree': \"\"\"Yes, I agree. That sounds fine to me.\"\"\",\n",
    "        'busy': \"\"\"Sorry, can we do this later this week or next week?\"\"\",\n",
    "        'upsell': \"\"\"Would you consider making this a monthly donation?\"\"\"}\n",
    "\n",
    "import sys\n",
    "\n",
    "if len(sys.argv) < 2:\n",
    "    print('Usage: py mclip.py [keyphrase] - copy phrase text')\n",
    "    sys.exit()\n",
    "    \n",
    "keyphrase = sys.argv[1] # first command line arg is the keyphrase\n",
    "\n",
    "if keyphrase in TEXT:\n",
    "    pyperclip.copy(TEXT[keyphrase])\n",
    "    print('Text for ' + keyphrase + ' copied to clipboard.')\n",
    "else:\n",
    "    print('There is no text for ' + keyphrase)"
   ]
  },
  {
   "cell_type": "markdown",
   "metadata": {},
   "source": [
    "Pig Latin is a silly made-up language that alters English words. If a word\n",
    "begins with a vowel, the word yay is added to the end of it. If a word begins\n",
    "with a consonant or consonant cluster (like ch or gr), that consonant or cluster is moved to the end of the word followed by ay. \n",
    "\n",
    "\n",
    "Enter the English message to translate into Pig Latin:\n",
    "My name is AL SWEIGART and I am 4,000 years old.\n",
    "Ymay amenay isyay ALYAY EIGARTSWAY andyay Iyay amyay 4,000 yearsyay oldyay."
   ]
  },
  {
   "cell_type": "code",
   "execution_count": null,
   "metadata": {},
   "outputs": [],
   "source": [
    "# English to Pig Latin\n",
    "print('Enter the English message to translate into Pig Latin:')\n",
    "message = input()\n",
    "VOWELS = ('a', 'e', 'i', 'o', 'u', 'y')\n",
    "\n",
    "pigLatin = [] # A list of the words in Pig Latin.\n",
    "for word in message.split():\n",
    "    \n",
    "# Separate the non-letters at the start of this word:\n",
    "    prefixNonLetters = ''\n",
    "    while len(word) > 0 and not word[0].isalpha():\n",
    "        prefixNonLetters += word[0]\n",
    "        word = word[1:]\n",
    "    \n",
    "    if len(word) == 0:\n",
    "        pigLatin.append(prefixNonLetters)\n",
    "        continue\n",
    "        \n",
    "    # Separate the non-letters at the end of this word:\n",
    "    suffixNonLetters = ''\n",
    "    while not word[-1].isalpha():\n",
    "        suffixNonLetters += word[-1]\n",
    "        word = word[:-1]\n",
    "        \n",
    "    # Remember if the word was in uppercase or title case.\n",
    "    wasUpper = word.isupper()\n",
    "    wasTitle = word.istitle()\n",
    "    \n",
    "    word = word.lower() # Make the word lowercase for translation.\n",
    "    # Separate the consonants at the start of this word:\n",
    "    prefixConsonants = ''\n",
    "    while len(word) > 0 and not word[0] in VOWELS:\n",
    "        prefixConsonants += word[0]\n",
    "        word = word[1:]\n",
    "        \n",
    "    # Add the Pig Latin ending to the word:\n",
    "    if prefixConsonants != '':\n",
    "        word += prefixConsonants + 'ay'\n",
    "    else:\n",
    "        word += 'yay'\n",
    "        \n",
    "    # Set the word back to uppercase or title case:\n",
    "    if wasUpper:\n",
    "        word = word.upper()\n",
    "    if wasTitle:\n",
    "        word = word.title()\n",
    "        \n",
    "    # Add the non-letters back to the start or end of the word.\n",
    "    pigLatin.append(prefixNonLetters + word + suffixNonLetters)\n",
    "    \n",
    "# Join all the words back together into a single string:\n",
    "print(' '.join(pigLatin))"
   ]
  },
  {
   "cell_type": "markdown",
   "metadata": {},
   "source": [
    "## Practice Quesitons"
   ]
  },
  {
   "cell_type": "markdown",
   "metadata": {},
   "source": [
    "1. What are escape characters? -\n",
    "Escape characters represent characters in string values that would\n",
    "otherwise be difficult or impossible to type into code\n",
    "2. What do the \\n and \\t escape characters represent? -\n",
    "\\n is a newline; \\t is a tab.\n",
    "3. How can you put a \\ backslash character in a string? -\n",
    "The \\\\ escape character will represent a backslash character.\n",
    "4. The string value \"Howl's Moving Castle\" is a valid string. Why isn’t it a problem that the single quote character in the word Howl's isn’t escaped? - \n",
    "The single quote in Howl's is fine because you’ve used double quotes to mark the beginning and end of the string.\n",
    "5. If you don’t want to put \\n in your string, how can you write a string with newlines in it? - \n",
    "Multiline strings allow you to use newlines in strings without the \\n\n",
    "escape character.\n",
    "6. What do the following expressions evaluate to?\n",
    "• 'Hello, world!'[1] - 'e'\n",
    "• 'Hello, world!'[0:5] - 'Hello'\n",
    "• 'Hello, world!'[:5] - 'Hello'\n",
    "• 'Hello, world!'[3:] - 'lo, world!\n",
    "7. What do the following expressions evaluate to?\n",
    "• 'Hello'.upper() - 'HELLO'\n",
    "• 'Hello'.upper().isupper() - True\n",
    "• 'Hello'.upper().lower() - 'hello'\n",
    "8. What do the following expressions evaluate to?\n",
    "• 'Remember, remember, the fifth of November.'.split()\n",
    "• '-'.join('There can be only one.'.split()) - \n",
    "['Remember,', 'remember,', 'the', 'fifth', 'of', 'November.']\n",
    "- 'There-can-be-only-one.'\n",
    "9. What string methods can you use to right-justify, left-justify, and center a string?\n",
    "- ljust(), rjust(), centre()\n",
    "10. How can you trim whitespace characters from the beginning or end of a string?\n",
    "- The lstrip() and rstrip() methods remove whitespace from the left and right ends of a string, respectively"
   ]
  },
  {
   "cell_type": "markdown",
   "metadata": {},
   "source": [
    "Table Printer\n",
    "\n",
    "Write a function named printTable() that takes a list of lists of strings\n",
    "and displays it in a well-organized table with each column right-justified.\n",
    "Assume that all the inner lists will contain the same number of strings.\n",
    "For example, the value could look like this:"
   ]
  },
  {
   "cell_type": "code",
   "execution_count": 21,
   "metadata": {},
   "outputs": [
    {
     "name": "stdout",
     "output_type": "stream",
     "text": [
      "Zombie Dice Visualization is running. Open your browser to http://localhost:55105 to view it.\n",
      "Press Ctrl-C to quit.\n",
      "Tournament of 1000 games started...\n",
      "Tournament results:\n",
      "Wins:\n",
      "    Stop at 2 Shotguns  397\n",
      "         Until Leading  214\n",
      "     Stop at 1 Shotgun  177\n",
      "         My Zombie Bot  110\n",
      "                Random   86\n",
      "Ties:\n",
      "         My Zombie Bot   10\n",
      "    Stop at 2 Shotguns    8\n",
      "     Stop at 1 Shotgun    8\n",
      "                Random    4\n",
      "         Until Leading    2\n"
     ]
    },
    {
     "name": "stderr",
     "output_type": "stream",
     "text": [
      "2023-07-01 23:09:23,625 - ERROR - Internal Python error in the inspect module.\n",
      "Below is the traceback from this internal error.\n",
      "\n"
     ]
    },
    {
     "name": "stdout",
     "output_type": "stream",
     "text": [
      "Traceback (most recent call last):\n",
      "  File \"/Users/jordanstevens/opt/anaconda3/lib/python3.8/site-packages/zombiedice/__init__.py\", line 108, in runWebGui\n",
      "    httpd.serve_forever()\n",
      "  File \"/Users/jordanstevens/opt/anaconda3/lib/python3.8/socketserver.py\", line 232, in serve_forever\n",
      "    ready = selector.select(poll_interval)\n",
      "  File \"/Users/jordanstevens/opt/anaconda3/lib/python3.8/selectors.py\", line 415, in select\n",
      "    fd_event_list = self._selector.poll(timeout)\n",
      "KeyboardInterrupt\n",
      "\n",
      "During handling of the above exception, another exception occurred:\n",
      "\n",
      "Traceback (most recent call last):\n",
      "  File \"/Users/jordanstevens/opt/anaconda3/lib/python3.8/site-packages/IPython/core/interactiveshell.py\", line 3418, in run_code\n",
      "    exec(code_obj, self.user_global_ns, self.user_ns)\n",
      "  File \"<ipython-input-21-5c1a4f9d672a>\", line 39, in <module>\n",
      "    zombiedice.runWebGui(zombies=zombies, numGames=1000)\n",
      "  File \"/Users/jordanstevens/opt/anaconda3/lib/python3.8/site-packages/zombiedice/__init__.py\", line 111, in runWebGui\n",
      "    sys.exit('Quitting...')\n",
      "SystemExit: Quitting...\n",
      "\n",
      "During handling of the above exception, another exception occurred:\n",
      "\n",
      "Traceback (most recent call last):\n",
      "  File \"/Users/jordanstevens/opt/anaconda3/lib/python3.8/site-packages/IPython/core/ultratb.py\", line 1170, in get_records\n",
      "    return _fixed_getinnerframes(etb, number_of_lines_of_context, tb_offset)\n",
      "  File \"/Users/jordanstevens/opt/anaconda3/lib/python3.8/site-packages/IPython/core/ultratb.py\", line 316, in wrapped\n",
      "    return f(*args, **kwargs)\n",
      "  File \"/Users/jordanstevens/opt/anaconda3/lib/python3.8/site-packages/IPython/core/ultratb.py\", line 350, in _fixed_getinnerframes\n",
      "    records = fix_frame_records_filenames(inspect.getinnerframes(etb, context))\n",
      "  File \"/Users/jordanstevens/opt/anaconda3/lib/python3.8/inspect.py\", line 1503, in getinnerframes\n",
      "    frameinfo = (tb.tb_frame,) + getframeinfo(tb, context)\n",
      "AttributeError: 'tuple' object has no attribute 'tb_frame'\n"
     ]
    },
    {
     "ename": "TypeError",
     "evalue": "object of type 'NoneType' has no len()",
     "output_type": "error",
     "traceback": [
      "\u001b[0;31m---------------------------------------------------------------------------\u001b[0m",
      "\u001b[0;31mKeyboardInterrupt\u001b[0m                         Traceback (most recent call last)",
      "\u001b[0;32m~/opt/anaconda3/lib/python3.8/site-packages/zombiedice/__init__.py\u001b[0m in \u001b[0;36mrunWebGui\u001b[0;34m(zombies, numGames)\u001b[0m\n\u001b[1;32m    107\u001b[0m     \u001b[0;32mtry\u001b[0m\u001b[0;34m:\u001b[0m\u001b[0;34m\u001b[0m\u001b[0;34m\u001b[0m\u001b[0m\n\u001b[0;32m--> 108\u001b[0;31m         \u001b[0mhttpd\u001b[0m\u001b[0;34m.\u001b[0m\u001b[0mserve_forever\u001b[0m\u001b[0;34m(\u001b[0m\u001b[0;34m)\u001b[0m\u001b[0;34m\u001b[0m\u001b[0;34m\u001b[0m\u001b[0m\n\u001b[0m\u001b[1;32m    109\u001b[0m     \u001b[0;32mexcept\u001b[0m \u001b[0;34m(\u001b[0m\u001b[0mKeyboardInterrupt\u001b[0m\u001b[0;34m,\u001b[0m \u001b[0mSystemExit\u001b[0m\u001b[0;34m)\u001b[0m\u001b[0;34m:\u001b[0m\u001b[0;34m\u001b[0m\u001b[0;34m\u001b[0m\u001b[0m\n",
      "\u001b[0;32m~/opt/anaconda3/lib/python3.8/socketserver.py\u001b[0m in \u001b[0;36mserve_forever\u001b[0;34m(self, poll_interval)\u001b[0m\n\u001b[1;32m    231\u001b[0m                 \u001b[0;32mwhile\u001b[0m \u001b[0;32mnot\u001b[0m \u001b[0mself\u001b[0m\u001b[0;34m.\u001b[0m\u001b[0m__shutdown_request\u001b[0m\u001b[0;34m:\u001b[0m\u001b[0;34m\u001b[0m\u001b[0;34m\u001b[0m\u001b[0m\n\u001b[0;32m--> 232\u001b[0;31m                     \u001b[0mready\u001b[0m \u001b[0;34m=\u001b[0m \u001b[0mselector\u001b[0m\u001b[0;34m.\u001b[0m\u001b[0mselect\u001b[0m\u001b[0;34m(\u001b[0m\u001b[0mpoll_interval\u001b[0m\u001b[0;34m)\u001b[0m\u001b[0;34m\u001b[0m\u001b[0;34m\u001b[0m\u001b[0m\n\u001b[0m\u001b[1;32m    233\u001b[0m                     \u001b[0;31m# bpo-35017: shutdown() called during select(), exit immediately.\u001b[0m\u001b[0;34m\u001b[0m\u001b[0;34m\u001b[0m\u001b[0;34m\u001b[0m\u001b[0m\n",
      "\u001b[0;32m~/opt/anaconda3/lib/python3.8/selectors.py\u001b[0m in \u001b[0;36mselect\u001b[0;34m(self, timeout)\u001b[0m\n\u001b[1;32m    414\u001b[0m         \u001b[0;32mtry\u001b[0m\u001b[0;34m:\u001b[0m\u001b[0;34m\u001b[0m\u001b[0;34m\u001b[0m\u001b[0m\n\u001b[0;32m--> 415\u001b[0;31m             \u001b[0mfd_event_list\u001b[0m \u001b[0;34m=\u001b[0m \u001b[0mself\u001b[0m\u001b[0;34m.\u001b[0m\u001b[0m_selector\u001b[0m\u001b[0;34m.\u001b[0m\u001b[0mpoll\u001b[0m\u001b[0;34m(\u001b[0m\u001b[0mtimeout\u001b[0m\u001b[0;34m)\u001b[0m\u001b[0;34m\u001b[0m\u001b[0;34m\u001b[0m\u001b[0m\n\u001b[0m\u001b[1;32m    416\u001b[0m         \u001b[0;32mexcept\u001b[0m \u001b[0mInterruptedError\u001b[0m\u001b[0;34m:\u001b[0m\u001b[0;34m\u001b[0m\u001b[0;34m\u001b[0m\u001b[0m\n",
      "\u001b[0;31mKeyboardInterrupt\u001b[0m: ",
      "\nDuring handling of the above exception, another exception occurred:\n",
      "\u001b[0;31mSystemExit\u001b[0m                                Traceback (most recent call last)",
      "    \u001b[0;31m[... skipping hidden 1 frame]\u001b[0m\n",
      "\u001b[0;32m<ipython-input-21-5c1a4f9d672a>\u001b[0m in \u001b[0;36m<module>\u001b[0;34m\u001b[0m\n\u001b[1;32m     38\u001b[0m \u001b[0;31m#zombiedice.runTournament(zombies=zombies, numGames=1000)\u001b[0m\u001b[0;34m\u001b[0m\u001b[0;34m\u001b[0m\u001b[0;34m\u001b[0m\u001b[0m\n\u001b[0;32m---> 39\u001b[0;31m \u001b[0mzombiedice\u001b[0m\u001b[0;34m.\u001b[0m\u001b[0mrunWebGui\u001b[0m\u001b[0;34m(\u001b[0m\u001b[0mzombies\u001b[0m\u001b[0;34m=\u001b[0m\u001b[0mzombies\u001b[0m\u001b[0;34m,\u001b[0m \u001b[0mnumGames\u001b[0m\u001b[0;34m=\u001b[0m\u001b[0;36m1000\u001b[0m\u001b[0;34m)\u001b[0m\u001b[0;34m\u001b[0m\u001b[0;34m\u001b[0m\u001b[0m\n\u001b[0m",
      "\u001b[0;32m~/opt/anaconda3/lib/python3.8/site-packages/zombiedice/__init__.py\u001b[0m in \u001b[0;36mrunWebGui\u001b[0;34m(zombies, numGames)\u001b[0m\n\u001b[1;32m    110\u001b[0m         \u001b[0mhttpd\u001b[0m\u001b[0;34m.\u001b[0m\u001b[0msocket\u001b[0m\u001b[0;34m.\u001b[0m\u001b[0mclose\u001b[0m\u001b[0;34m(\u001b[0m\u001b[0;34m)\u001b[0m\u001b[0;34m\u001b[0m\u001b[0;34m\u001b[0m\u001b[0m\n\u001b[0;32m--> 111\u001b[0;31m         \u001b[0msys\u001b[0m\u001b[0;34m.\u001b[0m\u001b[0mexit\u001b[0m\u001b[0;34m(\u001b[0m\u001b[0;34m'Quitting...'\u001b[0m\u001b[0;34m)\u001b[0m\u001b[0;34m\u001b[0m\u001b[0;34m\u001b[0m\u001b[0m\n\u001b[0m\u001b[1;32m    112\u001b[0m \u001b[0;34m\u001b[0m\u001b[0m\n",
      "\u001b[0;31mSystemExit\u001b[0m: Quitting...",
      "\nDuring handling of the above exception, another exception occurred:\n",
      "\u001b[0;31mTypeError\u001b[0m                                 Traceback (most recent call last)",
      "    \u001b[0;31m[... skipping hidden 1 frame]\u001b[0m\n",
      "\u001b[0;32m~/opt/anaconda3/lib/python3.8/site-packages/IPython/core/interactiveshell.py\u001b[0m in \u001b[0;36mshowtraceback\u001b[0;34m(self, exc_tuple, filename, tb_offset, exception_only, running_compiled_code)\u001b[0m\n\u001b[1;32m   2036\u001b[0m                     stb = ['An exception has occurred, use %tb to see '\n\u001b[1;32m   2037\u001b[0m                            'the full traceback.\\n']\n\u001b[0;32m-> 2038\u001b[0;31m                     stb.extend(self.InteractiveTB.get_exception_only(etype,\n\u001b[0m\u001b[1;32m   2039\u001b[0m                                                                      value))\n\u001b[1;32m   2040\u001b[0m                 \u001b[0;32melse\u001b[0m\u001b[0;34m:\u001b[0m\u001b[0;34m\u001b[0m\u001b[0;34m\u001b[0m\u001b[0m\n",
      "\u001b[0;32m~/opt/anaconda3/lib/python3.8/site-packages/IPython/core/ultratb.py\u001b[0m in \u001b[0;36mget_exception_only\u001b[0;34m(self, etype, value)\u001b[0m\n\u001b[1;32m    821\u001b[0m         \u001b[0mvalue\u001b[0m \u001b[0;34m:\u001b[0m \u001b[0mexception\u001b[0m \u001b[0mvalue\u001b[0m\u001b[0;34m\u001b[0m\u001b[0;34m\u001b[0m\u001b[0m\n\u001b[1;32m    822\u001b[0m         \"\"\"\n\u001b[0;32m--> 823\u001b[0;31m         \u001b[0;32mreturn\u001b[0m \u001b[0mListTB\u001b[0m\u001b[0;34m.\u001b[0m\u001b[0mstructured_traceback\u001b[0m\u001b[0;34m(\u001b[0m\u001b[0mself\u001b[0m\u001b[0;34m,\u001b[0m \u001b[0metype\u001b[0m\u001b[0;34m,\u001b[0m \u001b[0mvalue\u001b[0m\u001b[0;34m)\u001b[0m\u001b[0;34m\u001b[0m\u001b[0;34m\u001b[0m\u001b[0m\n\u001b[0m\u001b[1;32m    824\u001b[0m \u001b[0;34m\u001b[0m\u001b[0m\n\u001b[1;32m    825\u001b[0m     \u001b[0;32mdef\u001b[0m \u001b[0mshow_exception_only\u001b[0m\u001b[0;34m(\u001b[0m\u001b[0mself\u001b[0m\u001b[0;34m,\u001b[0m \u001b[0metype\u001b[0m\u001b[0;34m,\u001b[0m \u001b[0mevalue\u001b[0m\u001b[0;34m)\u001b[0m\u001b[0;34m:\u001b[0m\u001b[0;34m\u001b[0m\u001b[0;34m\u001b[0m\u001b[0m\n",
      "\u001b[0;32m~/opt/anaconda3/lib/python3.8/site-packages/IPython/core/ultratb.py\u001b[0m in \u001b[0;36mstructured_traceback\u001b[0;34m(self, etype, evalue, etb, tb_offset, context)\u001b[0m\n\u001b[1;32m    696\u001b[0m             \u001b[0mchained_exceptions_tb_offset\u001b[0m \u001b[0;34m=\u001b[0m \u001b[0;36m0\u001b[0m\u001b[0;34m\u001b[0m\u001b[0;34m\u001b[0m\u001b[0m\n\u001b[1;32m    697\u001b[0m             out_list = (\n\u001b[0;32m--> 698\u001b[0;31m                 self.structured_traceback(\n\u001b[0m\u001b[1;32m    699\u001b[0m                     \u001b[0metype\u001b[0m\u001b[0;34m,\u001b[0m \u001b[0mevalue\u001b[0m\u001b[0;34m,\u001b[0m \u001b[0;34m(\u001b[0m\u001b[0metb\u001b[0m\u001b[0;34m,\u001b[0m \u001b[0mchained_exc_ids\u001b[0m\u001b[0;34m)\u001b[0m\u001b[0;34m,\u001b[0m\u001b[0;34m\u001b[0m\u001b[0;34m\u001b[0m\u001b[0m\n\u001b[1;32m    700\u001b[0m                     chained_exceptions_tb_offset, context)\n",
      "\u001b[0;32m~/opt/anaconda3/lib/python3.8/site-packages/IPython/core/ultratb.py\u001b[0m in \u001b[0;36mstructured_traceback\u001b[0;34m(self, etype, value, tb, tb_offset, number_of_lines_of_context)\u001b[0m\n\u001b[1;32m   1434\u001b[0m         \u001b[0;32melse\u001b[0m\u001b[0;34m:\u001b[0m\u001b[0;34m\u001b[0m\u001b[0;34m\u001b[0m\u001b[0m\n\u001b[1;32m   1435\u001b[0m             \u001b[0mself\u001b[0m\u001b[0;34m.\u001b[0m\u001b[0mtb\u001b[0m \u001b[0;34m=\u001b[0m \u001b[0mtb\u001b[0m\u001b[0;34m\u001b[0m\u001b[0;34m\u001b[0m\u001b[0m\n\u001b[0;32m-> 1436\u001b[0;31m         return FormattedTB.structured_traceback(\n\u001b[0m\u001b[1;32m   1437\u001b[0m             self, etype, value, tb, tb_offset, number_of_lines_of_context)\n\u001b[1;32m   1438\u001b[0m \u001b[0;34m\u001b[0m\u001b[0m\n",
      "\u001b[0;32m~/opt/anaconda3/lib/python3.8/site-packages/IPython/core/ultratb.py\u001b[0m in \u001b[0;36mstructured_traceback\u001b[0;34m(self, etype, value, tb, tb_offset, number_of_lines_of_context)\u001b[0m\n\u001b[1;32m   1334\u001b[0m         \u001b[0;32mif\u001b[0m \u001b[0mmode\u001b[0m \u001b[0;32min\u001b[0m \u001b[0mself\u001b[0m\u001b[0;34m.\u001b[0m\u001b[0mverbose_modes\u001b[0m\u001b[0;34m:\u001b[0m\u001b[0;34m\u001b[0m\u001b[0;34m\u001b[0m\u001b[0m\n\u001b[1;32m   1335\u001b[0m             \u001b[0;31m# Verbose modes need a full traceback\u001b[0m\u001b[0;34m\u001b[0m\u001b[0;34m\u001b[0m\u001b[0;34m\u001b[0m\u001b[0m\n\u001b[0;32m-> 1336\u001b[0;31m             return VerboseTB.structured_traceback(\n\u001b[0m\u001b[1;32m   1337\u001b[0m                 \u001b[0mself\u001b[0m\u001b[0;34m,\u001b[0m \u001b[0metype\u001b[0m\u001b[0;34m,\u001b[0m \u001b[0mvalue\u001b[0m\u001b[0;34m,\u001b[0m \u001b[0mtb\u001b[0m\u001b[0;34m,\u001b[0m \u001b[0mtb_offset\u001b[0m\u001b[0;34m,\u001b[0m \u001b[0mnumber_of_lines_of_context\u001b[0m\u001b[0;34m\u001b[0m\u001b[0;34m\u001b[0m\u001b[0m\n\u001b[1;32m   1338\u001b[0m             )\n",
      "\u001b[0;32m~/opt/anaconda3/lib/python3.8/site-packages/IPython/core/ultratb.py\u001b[0m in \u001b[0;36mstructured_traceback\u001b[0;34m(self, etype, evalue, etb, tb_offset, number_of_lines_of_context)\u001b[0m\n\u001b[1;32m   1191\u001b[0m         \u001b[0;34m\"\"\"Return a nice text document describing the traceback.\"\"\"\u001b[0m\u001b[0;34m\u001b[0m\u001b[0;34m\u001b[0m\u001b[0m\n\u001b[1;32m   1192\u001b[0m \u001b[0;34m\u001b[0m\u001b[0m\n\u001b[0;32m-> 1193\u001b[0;31m         formatted_exception = self.format_exception_as_a_whole(etype, evalue, etb, number_of_lines_of_context,\n\u001b[0m\u001b[1;32m   1194\u001b[0m                                                                tb_offset)\n\u001b[1;32m   1195\u001b[0m \u001b[0;34m\u001b[0m\u001b[0m\n",
      "\u001b[0;32m~/opt/anaconda3/lib/python3.8/site-packages/IPython/core/ultratb.py\u001b[0m in \u001b[0;36mformat_exception_as_a_whole\u001b[0;34m(self, etype, evalue, etb, number_of_lines_of_context, tb_offset)\u001b[0m\n\u001b[1;32m   1149\u001b[0m \u001b[0;34m\u001b[0m\u001b[0m\n\u001b[1;32m   1150\u001b[0m \u001b[0;34m\u001b[0m\u001b[0m\n\u001b[0;32m-> 1151\u001b[0;31m         \u001b[0mlast_unique\u001b[0m\u001b[0;34m,\u001b[0m \u001b[0mrecursion_repeat\u001b[0m \u001b[0;34m=\u001b[0m \u001b[0mfind_recursion\u001b[0m\u001b[0;34m(\u001b[0m\u001b[0morig_etype\u001b[0m\u001b[0;34m,\u001b[0m \u001b[0mevalue\u001b[0m\u001b[0;34m,\u001b[0m \u001b[0mrecords\u001b[0m\u001b[0;34m)\u001b[0m\u001b[0;34m\u001b[0m\u001b[0;34m\u001b[0m\u001b[0m\n\u001b[0m\u001b[1;32m   1152\u001b[0m \u001b[0;34m\u001b[0m\u001b[0m\n\u001b[1;32m   1153\u001b[0m         \u001b[0mframes\u001b[0m \u001b[0;34m=\u001b[0m \u001b[0mself\u001b[0m\u001b[0;34m.\u001b[0m\u001b[0mformat_records\u001b[0m\u001b[0;34m(\u001b[0m\u001b[0mrecords\u001b[0m\u001b[0;34m,\u001b[0m \u001b[0mlast_unique\u001b[0m\u001b[0;34m,\u001b[0m \u001b[0mrecursion_repeat\u001b[0m\u001b[0;34m)\u001b[0m\u001b[0;34m\u001b[0m\u001b[0;34m\u001b[0m\u001b[0m\n",
      "\u001b[0;32m~/opt/anaconda3/lib/python3.8/site-packages/IPython/core/ultratb.py\u001b[0m in \u001b[0;36mfind_recursion\u001b[0;34m(etype, value, records)\u001b[0m\n\u001b[1;32m    449\u001b[0m     \u001b[0;31m# first frame (from in to out) that looks different.\u001b[0m\u001b[0;34m\u001b[0m\u001b[0;34m\u001b[0m\u001b[0;34m\u001b[0m\u001b[0m\n\u001b[1;32m    450\u001b[0m     \u001b[0;32mif\u001b[0m \u001b[0;32mnot\u001b[0m \u001b[0mis_recursion_error\u001b[0m\u001b[0;34m(\u001b[0m\u001b[0metype\u001b[0m\u001b[0;34m,\u001b[0m \u001b[0mvalue\u001b[0m\u001b[0;34m,\u001b[0m \u001b[0mrecords\u001b[0m\u001b[0;34m)\u001b[0m\u001b[0;34m:\u001b[0m\u001b[0;34m\u001b[0m\u001b[0;34m\u001b[0m\u001b[0m\n\u001b[0;32m--> 451\u001b[0;31m         \u001b[0;32mreturn\u001b[0m \u001b[0mlen\u001b[0m\u001b[0;34m(\u001b[0m\u001b[0mrecords\u001b[0m\u001b[0;34m)\u001b[0m\u001b[0;34m,\u001b[0m \u001b[0;36m0\u001b[0m\u001b[0;34m\u001b[0m\u001b[0;34m\u001b[0m\u001b[0m\n\u001b[0m\u001b[1;32m    452\u001b[0m \u001b[0;34m\u001b[0m\u001b[0m\n\u001b[1;32m    453\u001b[0m     \u001b[0;31m# Select filename, lineno, func_name to track frames with\u001b[0m\u001b[0;34m\u001b[0m\u001b[0;34m\u001b[0m\u001b[0;34m\u001b[0m\u001b[0m\n",
      "\u001b[0;31mTypeError\u001b[0m: object of type 'NoneType' has no len()"
     ]
    }
   ],
   "source": [
    "#import zombiedice\n",
    "#zombiedice.demo()\n",
    "import zombiedice\n",
    "class MyZombie:\n",
    "    def __init__(self, name):\n",
    "# All zombies must have a name:\n",
    "        self.name = name\n",
    "    def turn(self, gameState):\n",
    "# gameState is a dict with info about the current state of the game.\n",
    "# You can choose to ignore it in your code.\n",
    "        diceRollResults = zombiedice.roll() # first roll\n",
    "# roll() returns a dictionary with keys 'brains', 'shotgun', and\n",
    "# 'footsteps' with how many rolls of each type there were.\n",
    "# The 'rolls' key is a list of (color, icon) tuples with the\n",
    "# exact roll result information.\n",
    "# Example of a roll() return value:\n",
    "# {'brains': 1, 'footsteps': 1, 'shotgun': 1,\n",
    "# 'rolls': [('yellow', 'brains'), ('red', 'footsteps'),\n",
    "# ('green', 'shotgun')]}\n",
    "# REPLACE THIS ZOMBIE CODE WITH YOUR OWN:\n",
    "        brains = 0\n",
    "        while diceRollResults is not None:\n",
    "            brains += diceRollResults['brains']\n",
    "            if brains < 2:\n",
    "                diceRollResults = zombiedice.roll() # roll again\n",
    "            else:\n",
    "                break\n",
    "zombies = (\n",
    "    zombiedice.examples.RandomCoinFlipZombie(name='Random'),\n",
    "    zombiedice.examples.RollsUntilInTheLeadZombie(name='Until Leading'),\n",
    "    zombiedice.examples.MinNumShotgunsThenStopsZombie(name='Stop at 2 Shotguns', minShotguns=2),\n",
    "    zombiedice.examples.MinNumShotgunsThenStopsZombie(name='Stop at 1 Shotgun', minShotguns=1),\n",
    "    MyZombie(name='My Zombie Bot'),\n",
    "    # Add any other zombie players here.\n",
    ")\n",
    "                                                      \n",
    "# Uncomment one of the following lines to run in CLI or Web GUI mode:\n",
    "#zombiedice.runTournament(zombies=zombies, numGames=1000)\n",
    "zombiedice.runWebGui(zombies=zombies, numGames=1000)"
   ]
  },
  {
   "cell_type": "code",
   "execution_count": 3,
   "metadata": {},
   "outputs": [
    {
     "name": "stdout",
     "output_type": "stream",
     "text": [
      "Is 415-555-4242 a phone number?\n",
      "True\n",
      "Is Moshi moshi a phone number?\n",
      "False\n"
     ]
    }
   ],
   "source": [
    "def isPhoneNumber(text):\n",
    "    if len(text) != 12:\n",
    "        return False\n",
    "    for i in range(0, 3):\n",
    "        if not text[i].isdecimal():\n",
    "            return False\n",
    "        if text[3] != '-':\n",
    "            return False\n",
    "    for i in range(4, 7):\n",
    "        if not text[i].isdecimal():\n",
    "            return False\n",
    "        if text[7] != '-':\n",
    "            return False\n",
    "    for i in range(8, 12):\n",
    "        if not text[i].isdecimal():\n",
    "            return False\n",
    "    return True\n",
    "print('Is 415-555-4242 a phone number?')\n",
    "print(isPhoneNumber('415-555-4242'))\n",
    "print('Is Moshi moshi a phone number?')\n",
    "print(isPhoneNumber('Moshi moshi'))"
   ]
  },
  {
   "cell_type": "markdown",
   "metadata": {},
   "source": [
    "What about a phone number\n",
    "formatted like 415.555.4242 or (415) 555-4242? What if the phone number had an extension, like 415-555-4242 x99? The isPhoneNumber() function\n",
    "would fail to validate them. Regular expressions, called regexes for short, are descriptions for a pattern of text. For example, a \\d in a regex stands for a digit character—that\n",
    "is, any single numeral from 0 to 9. The regex \\d\\d\\d-\\d\\d\\d-\\d\\d\\d\\d is used\n",
    "by Python to match the same text pattern the previous isPhoneNumber()\n",
    "function did: a string of three numbers, a hyphen, three more numbers,\n",
    "another hyphen, and four numbers. Any other string would not match the\n",
    "\\d\\d\\d-\\d\\d\\d-\\d\\d\\d\\d regex.But regular expressions can be much more sophisticated. For example,\n",
    "adding a 3 in braces ({3}) after a pattern is like saying, “Match this pattern\n",
    "three times.” So the slightly shorter regex \\d{3}-\\d{3}-\\d{4} also matches the\n",
    "correct phone number format."
   ]
  },
  {
   "cell_type": "code",
   "execution_count": 13,
   "metadata": {},
   "outputs": [
    {
     "name": "stdout",
     "output_type": "stream",
     "text": [
      "Phone number found: +44-20-8385-7088\n"
     ]
    }
   ],
   "source": [
    "uknumregex = re.compile(r'\\+\\d\\d\\-\\d\\d-\\d\\d\\d\\d-\\d\\d\\d\\d')\n",
    "homenum = uknumregex.search('My number is +44-20-8385-7088')\n",
    "print('Phone number found: ' + homenum.group())"
   ]
  },
  {
   "cell_type": "code",
   "execution_count": 12,
   "metadata": {},
   "outputs": [
    {
     "data": {
      "text/plain": [
       "'+44-7588-742-560'"
      ]
     },
     "execution_count": 12,
     "metadata": {},
     "output_type": "execute_result"
    }
   ],
   "source": [
    "phoneNumRegex = re.compile(r'(\\+\\d\\d)-(\\d\\d\\d\\d-\\d\\d\\d-\\d\\d\\d)')\n",
    "mo = phoneNumRegex.search('My number is +44-7588-742-560.')\n",
    "mo.group(1)\n",
    "mo.group(2)\n",
    "mo.group(0)"
   ]
  },
  {
   "cell_type": "code",
   "execution_count": 10,
   "metadata": {},
   "outputs": [
    {
     "data": {
      "text/plain": [
       "'Batman'"
      ]
     },
     "execution_count": 10,
     "metadata": {},
     "output_type": "execute_result"
    }
   ],
   "source": [
    "#The | character is called a pipe. You can use it anywhere you want to match\n",
    "#one of many expressions. For example, the regular expression r'Batman|Tina\n",
    "#Fey' will match either 'Batman' or 'Tina Fey'. \n",
    "\n",
    "heroRegex = re.compile (r'Batman|Tina Fey')\n",
    "mo1 = heroRegex.search('Batman and Tina Fey') # batman is returned first as it is listed first \n",
    "mo1.group() "
   ]
  },
  {
   "cell_type": "code",
   "execution_count": 11,
   "metadata": {},
   "outputs": [
    {
     "data": {
      "text/plain": [
       "'Tina Fey'"
      ]
     },
     "execution_count": 11,
     "metadata": {},
     "output_type": "execute_result"
    }
   ],
   "source": [
    "mo2 = heroRegex.search('Tina Fey and Batman')\n",
    "mo2.group() #Tina Fey returned first as it was listed first"
   ]
  },
  {
   "cell_type": "markdown",
   "metadata": {},
   "source": [
    "ou can also use the pipe to match one of several patterns as part\n",
    "of your regex. For example, say you wanted to match any of the strings\n",
    "'Batman', 'Batmobile', 'Batcopter', and 'Batbat'. Since all these strings start\n",
    "with Bat, it would be nice if you could specify that prefix only once. This can\n",
    "be done with parentheses. "
   ]
  },
  {
   "cell_type": "code",
   "execution_count": 8,
   "metadata": {},
   "outputs": [
    {
     "data": {
      "text/plain": [
       "'Batmobile'"
      ]
     },
     "execution_count": 8,
     "metadata": {},
     "output_type": "execute_result"
    }
   ],
   "source": [
    "batRegex = re.compile(r'Bat(man|mobile|copter|bat)')\n",
    "mo = batRegex.search('Batmobile lost a wheel') #batmobile listed so search for this\n",
    "mo.group()"
   ]
  },
  {
   "cell_type": "code",
   "execution_count": 17,
   "metadata": {},
   "outputs": [
    {
     "data": {
      "text/plain": [
       "'Batman'"
      ]
     },
     "execution_count": 17,
     "metadata": {},
     "output_type": "execute_result"
    }
   ],
   "source": [
    "#Matching Zero or More with the Star\n",
    "batRegex = re.compile(r'Bat(wo)*man')\n",
    "mo1 = batRegex.search('The Adventures of Batman')\n",
    "mo1.group()\n",
    "#For 'Batman', the (wo)* part of the regex matches zero instances of wo\n",
    "#in the string; for 'Batwoman', the (wo)* matches one instance of wo; and for\n",
    "#'Batwowowowoman', (wo)* matches four instances of wo."
   ]
  },
  {
   "cell_type": "code",
   "execution_count": 18,
   "metadata": {},
   "outputs": [
    {
     "data": {
      "text/plain": [
       "'Batwoman'"
      ]
     },
     "execution_count": 18,
     "metadata": {},
     "output_type": "execute_result"
    }
   ],
   "source": [
    "mo2 = batRegex.search('The Adventures of Batwoman')\n",
    "mo2.group()"
   ]
  },
  {
   "cell_type": "code",
   "execution_count": 5,
   "metadata": {},
   "outputs": [
    {
     "data": {
      "text/plain": [
       "'Batwoman'"
      ]
     },
     "execution_count": 5,
     "metadata": {},
     "output_type": "execute_result"
    }
   ],
   "source": [
    "#Matching One or More with the Plus\n",
    "\n",
    "batRegex = re.compile(r'Bat(wo)+man')\n",
    "mo1 = batRegex.search('The Adventures of Batwoman')\n",
    "mo1.group()\n",
    "\n",
    "#The regex Bat(wo)+man will not match the string 'The Adventures of\n",
    "#Batman', because at least one wo is required by the plus sign.\n",
    "#If you need to match an actual plus sign character, prefix the plus sign\n",
    "#with a backslash to escape it: \\+"
   ]
  },
  {
   "cell_type": "code",
   "execution_count": 6,
   "metadata": {},
   "outputs": [
    {
     "data": {
      "text/plain": [
       "'Batwowowowoman'"
      ]
     },
     "execution_count": 6,
     "metadata": {},
     "output_type": "execute_result"
    }
   ],
   "source": [
    "mo2 = batRegex.search('The Adventures of Batwowowowoman')\n",
    "mo2.group()"
   ]
  },
  {
   "cell_type": "code",
   "execution_count": 19,
   "metadata": {},
   "outputs": [
    {
     "data": {
      "text/plain": [
       "'HaHaHa'"
      ]
     },
     "execution_count": 19,
     "metadata": {},
     "output_type": "execute_result"
    }
   ],
   "source": [
    "#Matching Specific Repetitions with Braces\n",
    "haRegex = re.compile(r'(Ha){3}')\n",
    "mo1 = haRegex.search('HaHaHa')\n",
    "mo1.group()\n",
    "#Here, (Ha){3} matches 'HaHaHa' but not 'Ha'. Since it doesn’t match 'Ha',\n",
    "#search() returns None"
   ]
  },
  {
   "cell_type": "code",
   "execution_count": 20,
   "metadata": {},
   "outputs": [
    {
     "data": {
      "text/plain": [
       "True"
      ]
     },
     "execution_count": 20,
     "metadata": {},
     "output_type": "execute_result"
    }
   ],
   "source": [
    "mo2 = haRegex.search('Ha')\n",
    "mo2 == None"
   ]
  },
  {
   "cell_type": "code",
   "execution_count": 22,
   "metadata": {},
   "outputs": [
    {
     "data": {
      "text/plain": [
       "'HaHaHaHaHa'"
      ]
     },
     "execution_count": 22,
     "metadata": {},
     "output_type": "execute_result"
    }
   ],
   "source": [
    "greedyHaRegex = re.compile(r'(Ha){3,5}') #Ha can match 3,4,5 instances\n",
    "mo1 = greedyHaRegex.search('HaHaHaHaHa')\n",
    "mo1.group() #matches the longest string possible - Greedy"
   ]
  },
  {
   "cell_type": "code",
   "execution_count": 23,
   "metadata": {},
   "outputs": [
    {
     "data": {
      "text/plain": [
       "'HaHaHa'"
      ]
     },
     "execution_count": 23,
     "metadata": {},
     "output_type": "execute_result"
    }
   ],
   "source": [
    "nongreedyHaRegex = re.compile(r'(Ha){3,5}?') #Putting ? takes shortest string possible\n",
    "mo2 = nongreedyHaRegex.search('HaHaHaHaHa')\n",
    "mo2.group()"
   ]
  },
  {
   "cell_type": "code",
   "execution_count": 24,
   "metadata": {},
   "outputs": [
    {
     "data": {
      "text/plain": [
       "'415-555-9999'"
      ]
     },
     "execution_count": 24,
     "metadata": {},
     "output_type": "execute_result"
    }
   ],
   "source": [
    "#search() will return a Match object of the first matched text\n",
    "#in the searched string, as achieved above examples\n",
    "phoneNumRegex = re.compile(r'\\d\\d\\d-\\d\\d\\d-\\d\\d\\d\\d')\n",
    "mo = phoneNumRegex.search('Cell: 415-555-9999 Work: 212-555-0000')\n",
    "mo.group()"
   ]
  },
  {
   "cell_type": "code",
   "execution_count": 25,
   "metadata": {},
   "outputs": [
    {
     "data": {
      "text/plain": [
       "['415-555-9999', '212-555-0000']"
      ]
     },
     "execution_count": 25,
     "metadata": {},
     "output_type": "execute_result"
    }
   ],
   "source": [
    "#findall() method will return the strings of every match in the searched string.\n",
    "phoneNumRegex = re.compile(r'\\d\\d\\d-\\d\\d\\d-\\d\\d\\d\\d') # has no groups\n",
    "phoneNumRegex.findall('Cell: 415-555-9999 Work: 212-555-0000')"
   ]
  },
  {
   "cell_type": "code",
   "execution_count": 26,
   "metadata": {},
   "outputs": [
    {
     "data": {
      "text/plain": [
       "[('415', '555', '9999'), ('212', '555', '0000')]"
      ]
     },
     "execution_count": 26,
     "metadata": {},
     "output_type": "execute_result"
    }
   ],
   "source": [
    "#If there are groups in the regular expression, then findall() will return\n",
    "#a list of tuples. Each tuple represents a found match, and its items are the\n",
    "#matched strings for each group in the regex.\n",
    "phoneNumRegex = re.compile(r'(\\d\\d\\d)-(\\d\\d\\d)-(\\d\\d\\d\\d)') # has groups\n",
    "phoneNumRegex.findall('Cell: 415-555-9999 Work: 212-555-0000')\n"
   ]
  },
  {
   "cell_type": "code",
   "execution_count": 28,
   "metadata": {},
   "outputs": [],
   "source": [
    "#Shorthand Codes for Common Character Classes\n",
    "\n",
    "# \\d Any numeric digit from 0 to 9.\n",
    "# \\D Any character that is not a numeric digit from 0 to 9.\n",
    "# \\w Any letter, numeric digit, or the underscore character.\n",
    "# (Think of this as matching “word” characters.)\n",
    "# \\W Any character that is not a letter, numeric digit, or the\n",
    "# underscore character.\n",
    "# \\s Any space, tab, or newline character. (Think of this as\n",
    "# matching “space” characters.)\n",
    "# \\S Any character that is not a space, tab, or newline."
   ]
  },
  {
   "cell_type": "code",
   "execution_count": 4,
   "metadata": {},
   "outputs": [
    {
     "data": {
      "text/plain": [
       "['12 drummers',\n",
       " '11 pipers',\n",
       " '10 lords',\n",
       " '9 ladies',\n",
       " '8 maids',\n",
       " '7 swans',\n",
       " '6 geese',\n",
       " '5 rings',\n",
       " '4 birds',\n",
       " '3 hens',\n",
       " '2 doves',\n",
       " '1 partridge']"
      ]
     },
     "execution_count": 4,
     "metadata": {},
     "output_type": "execute_result"
    }
   ],
   "source": [
    "xmasRegex = re.compile(r'\\d+\\s\\w+') #accounted for numeric, then space, then letter\n",
    "xmasRegex.findall('12 drummers, 11 pipers, 10 lords, 9 ladies, 8 maids, 7 swans, 6 geese, 5 rings, 4 birds, 3 hens, 2 doves, 1 partridge')"
   ]
  },
  {
   "cell_type": "code",
   "execution_count": 5,
   "metadata": {},
   "outputs": [
    {
     "data": {
      "text/plain": [
       "['R',\n",
       " 'b',\n",
       " 'C',\n",
       " 'p',\n",
       " ' ',\n",
       " 't',\n",
       " 's',\n",
       " ' ',\n",
       " 'b',\n",
       " 'b',\n",
       " 'y',\n",
       " ' ',\n",
       " 'f',\n",
       " 'd',\n",
       " '.',\n",
       " ' ',\n",
       " 'B',\n",
       " 'B',\n",
       " 'Y',\n",
       " ' ',\n",
       " 'F',\n",
       " 'D',\n",
       " '.']"
      ]
     },
     "execution_count": 5,
     "metadata": {},
     "output_type": "execute_result"
    }
   ],
   "source": [
    "# ^matches all chr that are not in chr class\n",
    "consonantRegex = re.compile(r'[^aeiouAEIOU]') #find consonant and not voewels\n",
    "consonantRegex.findall('RoboCop eats baby food. BABY FOOD.')"
   ]
  },
  {
   "cell_type": "code",
   "execution_count": 18,
   "metadata": {},
   "outputs": [
    {
     "data": {
      "text/plain": [
       "<re.Match object; span=(0, 5), match='Hello'>"
      ]
     },
     "execution_count": 18,
     "metadata": {},
     "output_type": "execute_result"
    }
   ],
   "source": [
    "# the r'^Hello' regular expression string matches strings\n",
    "that begin with 'Hello'\n",
    "beginsWithHello = re.compile(r'^Hello')\n",
    "beginsWithHello.search('Hello, world!')"
   ]
  },
  {
   "cell_type": "code",
   "execution_count": 17,
   "metadata": {},
   "outputs": [
    {
     "data": {
      "text/plain": [
       "True"
      ]
     },
     "execution_count": 17,
     "metadata": {},
     "output_type": "execute_result"
    }
   ],
   "source": [
    "beginsWithHello.search('He said hello.') == None"
   ]
  },
  {
   "cell_type": "code",
   "execution_count": 19,
   "metadata": {},
   "outputs": [
    {
     "data": {
      "text/plain": [
       "<re.Match object; span=(16, 17), match='2'>"
      ]
     },
     "execution_count": 19,
     "metadata": {},
     "output_type": "execute_result"
    }
   ],
   "source": [
    "# r'\\d$' regular expression string matches strings that end with a\n",
    "numeric character from 0 to 9.\n",
    "endsWithNumber = re.compile(r'\\d$')\n",
    "endsWithNumber.search('Your number is 42')"
   ]
  },
  {
   "cell_type": "code",
   "execution_count": 20,
   "metadata": {},
   "outputs": [
    {
     "data": {
      "text/plain": [
       "True"
      ]
     },
     "execution_count": 20,
     "metadata": {},
     "output_type": "execute_result"
    }
   ],
   "source": [
    "endsWithNumber.search('Your number is forty two.') == None"
   ]
  },
  {
   "cell_type": "code",
   "execution_count": 21,
   "metadata": {},
   "outputs": [
    {
     "data": {
      "text/plain": [
       "<re.Match object; span=(0, 10), match='1234567890'>"
      ]
     },
     "execution_count": 21,
     "metadata": {},
     "output_type": "execute_result"
    }
   ],
   "source": [
    "#r'^\\d+$' regular expression string matches strings that both begin\n",
    "# and end with one or more numeric characters\n",
    "wholeStringIsNum = re.compile(r'^\\d+$')\n",
    "wholeStringIsNum.search('1234567890')"
   ]
  },
  {
   "cell_type": "code",
   "execution_count": 22,
   "metadata": {},
   "outputs": [
    {
     "data": {
      "text/plain": [
       "True"
      ]
     },
     "execution_count": 22,
     "metadata": {},
     "output_type": "execute_result"
    }
   ],
   "source": [
    "wholeStringIsNum.search('12345xyz67890') == None"
   ]
  },
  {
   "cell_type": "code",
   "execution_count": 23,
   "metadata": {},
   "outputs": [
    {
     "data": {
      "text/plain": [
       "True"
      ]
     },
     "execution_count": 23,
     "metadata": {},
     "output_type": "execute_result"
    }
   ],
   "source": [
    "wholeStringIsNum.search('12 34567890') == None"
   ]
  },
  {
   "cell_type": "code",
   "execution_count": 24,
   "metadata": {},
   "outputs": [
    {
     "data": {
      "text/plain": [
       "['cat', 'hat', 'sat', 'lat', 'mat']"
      ]
     },
     "execution_count": 24,
     "metadata": {},
     "output_type": "execute_result"
    }
   ],
   "source": [
    "# The Wildcard Character = .\n",
    "atRegex = re.compile(r'.at')\n",
    "atRegex.findall('The cat in the hat sat on the flat mat.')"
   ]
  },
  {
   "cell_type": "markdown",
   "metadata": {},
   "source": [
    "Sometimes you will want to match everything and anything. For example,\n",
    "say you want to match the string 'First Name:', followed by any and all text,\n",
    "followed by 'Last Name:', and then followed by anything again. You can\n",
    "use the dot-star (.*) to stand in for that “anything."
   ]
  },
  {
   "cell_type": "code",
   "execution_count": 25,
   "metadata": {},
   "outputs": [
    {
     "data": {
      "text/plain": [
       "'Al'"
      ]
     },
     "execution_count": 25,
     "metadata": {},
     "output_type": "execute_result"
    }
   ],
   "source": [
    "nameRegex = re.compile(r'First Name: (.*) Last Name: (.*)')\n",
    "mo = nameRegex.search('First Name: Al Last Name: Sweigart')\n",
    "mo.group(1)\n",
    "#The dot-star uses greedy mode: It will always try to match as much text as possible"
   ]
  },
  {
   "cell_type": "code",
   "execution_count": 26,
   "metadata": {},
   "outputs": [
    {
     "data": {
      "text/plain": [
       "'Sweigart'"
      ]
     },
     "execution_count": 26,
     "metadata": {},
     "output_type": "execute_result"
    }
   ],
   "source": [
    "mo.group(2)"
   ]
  },
  {
   "cell_type": "code",
   "execution_count": 4,
   "metadata": {},
   "outputs": [
    {
     "data": {
      "text/plain": [
       "'<To serve man>'"
      ]
     },
     "execution_count": 4,
     "metadata": {},
     "output_type": "execute_result"
    }
   ],
   "source": [
    "# To match any and all text in a non-greedy fashion, use the dot, star,\n",
    "# and question mark (.*?)\n",
    "\n",
    "#matches shortest possible string\n",
    "nongreedyRegex = re.compile(r'<.*?>') # strictly match opening bracket followed by closing bracket\n",
    "mo = nongreedyRegex.search('<To serve man> for dinner.>')\n",
    "mo.group()\n"
   ]
  },
  {
   "cell_type": "code",
   "execution_count": 5,
   "metadata": {},
   "outputs": [
    {
     "data": {
      "text/plain": [
       "'<To serve man> for dinner.>'"
      ]
     },
     "execution_count": 5,
     "metadata": {},
     "output_type": "execute_result"
    }
   ],
   "source": [
    "#matches shortest possible string\n",
    "\n",
    "greedyRegex = re.compile(r'<.*>')\n",
    "mo = greedyRegex.search('<To serve man> for dinner.>')\n",
    "mo.group()"
   ]
  },
  {
   "cell_type": "code",
   "execution_count": 6,
   "metadata": {},
   "outputs": [
    {
     "data": {
      "text/plain": [
       "'Serve the public trust.'"
      ]
     },
     "execution_count": 6,
     "metadata": {},
     "output_type": "execute_result"
    }
   ],
   "source": [
    "#Matching Newlines with the Dot Character\n",
    "\n",
    "noNewlineRegex = re.compile('.*') #will match everything only up to the first newline character\n",
    "noNewlineRegex.search('Serve the public trust.\\nProtect the innocent.\\nUphold the law.').group()"
   ]
  },
  {
   "cell_type": "code",
   "execution_count": 7,
   "metadata": {},
   "outputs": [
    {
     "data": {
      "text/plain": [
       "'Serve the public trust.\\nProtect the innocent.\\nUphold the law.'"
      ]
     },
     "execution_count": 7,
     "metadata": {},
     "output_type": "execute_result"
    }
   ],
   "source": [
    "newlineRegex = re.compile('.*', re.DOTALL) #DOTALL match everything only up to 1st new line character\n",
    "newlineRegex.search('Serve the public trust.\\nProtect the innocent.\\nUphold the law.').group()"
   ]
  },
  {
   "cell_type": "markdown",
   "metadata": {},
   "source": [
    "Review of Regex Symbols\n",
    "This chapter covered a lot of notation, so here’s a quick review of what you\n",
    "learned about basic regular expression syntax:\n",
    "\n",
    "→ The ? matches zero or one of the preceding group.\n",
    "\n",
    "→ The * matches zero or more of the preceding group.\n",
    "\n",
    "→ The + matches one or more of the preceding group.\n",
    "\n",
    "→ The {n} matches exactly n of the preceding group.\n",
    "\n",
    "→ The {n,} matches n or more of the preceding group.\n",
    "\n",
    "→ The {,m} matches 0 to m of the preceding group.\n",
    "\n",
    "→ The {n,m} matches at least n and at most m of the preceding group.\n",
    "\n",
    "→ {n,m}? or *? or +? performs a non-greedy match of the preceding group.\n",
    "\n",
    "→ ^spam means the string must begin with spam.\n",
    "\n",
    "→ spam$ means the string must end with spam.\n",
    "\n",
    "→ The . matches any character, except newline characters.\n",
    "\n",
    "→ \\d, \\w, and \\s match a digit, word, or space character, respectively.\n",
    "\n",
    "→ \\D, \\W, and \\S match anything except a digit, word, or space \n",
    "character,respectively.\n",
    "→ [abc] matches any character between the brackets (such as a, b, or c).\n",
    "\n",
    "→ [^abc] matches any character that isn’t between the brackets."
   ]
  },
  {
   "cell_type": "markdown",
   "metadata": {},
   "source": [
    "Case-Insensitive Matching\n",
    "\n",
    "Normally, regular expressions match text with the exact casing you specify.\n",
    "For example, the following regexes match completely different strings:\n",
    "    \n",
    "◎ regex1 = re.compile('RoboCop')\n",
    "\n",
    "◎ regex2 = re.compile('ROBOCOP')\n",
    "\n",
    "◎ regex3 = re.compile('robOcop')\n",
    "\n",
    "◎ regex4 = re.compile('RobocOp')"
   ]
  },
  {
   "cell_type": "code",
   "execution_count": 8,
   "metadata": {},
   "outputs": [
    {
     "data": {
      "text/plain": [
       "'RoboCop'"
      ]
     },
     "execution_count": 8,
     "metadata": {},
     "output_type": "execute_result"
    }
   ],
   "source": [
    "#But sometimes you care only about matching the letters without worrying whether they’re uppercase or lowercase.\n",
    "\n",
    "robocop = re.compile(r'robocop', re.I) #pass re.IGNORECASE or re.I as a second argument tore.compile(). \n",
    "robocop.search('RoboCop is part man, part machine, all cop.').group()"
   ]
  },
  {
   "cell_type": "code",
   "execution_count": 15,
   "metadata": {},
   "outputs": [
    {
     "data": {
      "text/plain": [
       "'CENSORED gave the secret documents to CENSORED.'"
      ]
     },
     "execution_count": 15,
     "metadata": {},
     "output_type": "execute_result"
    }
   ],
   "source": [
    "#Substituting Strings with the sub() Method\n",
    "\n",
    "#Regular expressions can not only find text patterns but can also substitute\n",
    "#new text in place of those patterns.\n",
    "\n",
    "namesRegex = re.compile(r'Agent \\w+')\n",
    "namesRegex.sub('CENSORED', 'Agent Alice gave the secret documents to Agent Bob.')"
   ]
  },
  {
   "cell_type": "code",
   "execution_count": 14,
   "metadata": {},
   "outputs": [
    {
     "data": {
      "text/plain": [
       "'A**** told C**** that E**** knew B**** was a double agent.'"
      ]
     },
     "execution_count": 14,
     "metadata": {},
     "output_type": "execute_result"
    }
   ],
   "source": [
    "# say you want to censor the names of the secret agents by\n",
    "# showing just the first letters of their names. To do this, you could use the\n",
    "# regex Agent (\\w)\\w* and pass r'\\1****' as the first argument to sub(). The \\1\n",
    "# in that string will be replaced by whatever text was matched by group 1\n",
    "\n",
    "agentNamesRegex = re.compile(r'Agent (\\w)\\w*')\n",
    "agentNamesRegex.sub(r'\\1****', 'Agent Alice told Agent Carol that Agent Eve knew Agent Bob was a double agent.')"
   ]
  },
  {
   "cell_type": "code",
   "execution_count": 6,
   "metadata": {},
   "outputs": [],
   "source": [
    "# Managing Complex Regexes\n",
    "# you can spread the regular expression over multiple lines using '''\n",
    "# t matching complicated text patterns might require long, convoluted regular expressions. use VERBOSE\n",
    "phoneRegex = re.compile(r'''(\n",
    "    (\\d{3}|\\(\\d{3}\\))? # area code\n",
    "    (\\s|-|\\.)? # separator\n",
    "    \\d{3} # first 3 digits\n",
    "    (\\s|-|\\.) # separator\n",
    "    \\d{4} # last 4 digits\n",
    "    (\\s*(ext|x|ext.)\\s*\\d{2,5})? # extension\n",
    "    )''', re.VERBOSE)"
   ]
  },
  {
   "cell_type": "markdown",
   "metadata": {},
   "source": [
    "Project: Phone Number and Email Address Extractor\n",
    "\n",
    "Say you have the boring task of finding every phone number and email\n",
    "address in a long web page or document. If you manually scroll through\n",
    "the page, you might end up searching for a long time. But if you had a program that could search the text in your clipboard for phone numbers and\n",
    "email addresses, you could simply press ctrl-A to select all the text, press\n",
    "ctrl-C to copy it to the clipboard, and then run your program. It could\n",
    "replace the text on the clipboard with just the phone numbers and email\n",
    "addresses it finds\n"
   ]
  },
  {
   "cell_type": "markdown",
   "metadata": {},
   "source": [
    "For example, your phone and email address extractor will need to do\n",
    "the following:\n",
    "1. Get the text off the clipboard.\n",
    "2. Find all phone numbers and email addresses in the text.\n",
    "3. Paste them onto the clipboard.\n",
    "Now you can start thinking about how this might work in code. The\n",
    "code will need to do the following:\n",
    "1. Use the pyperclip module to copy and paste strings.\n",
    "2. Create two regexes, one for matching phone numbers and the other\n",
    "for matching email addresses.\n",
    "3. Find all matches, not just the first match, of both regexes.\n",
    "4. Neatly format the matched strings into a single string to paste.\n",
    "5. Display some kind of message if no matches were found in the text."
   ]
  },
  {
   "cell_type": "markdown",
   "metadata": {},
   "source": [
    "Step 1: Create a Regex for Phone Numbers\n",
    "    \n",
    "First, you have to create a regular expression to search for phone numbers.\n",
    "Create a new file, enter the following, and save it as phoneAndEmail.py:"
   ]
  },
  {
   "cell_type": "code",
   "execution_count": 13,
   "metadata": {},
   "outputs": [],
   "source": [
    "#! python3\n",
    "# phoneAndEmail.py - Finds phone numbers and email addresses on the clipboard.\n",
    "import pyperclip, re\n",
    "phoneRegex = re.compile(r'''(\n",
    "    (\\d{3}|\\(\\d{3}\\))? # area code\n",
    "    (\\s|-|\\.)? # separator\n",
    "    (\\d{3}) # first 3 digits\n",
    "    (\\s|-|\\.) # separator\n",
    "    (\\d{4}) # last 4 digits\n",
    "    (\\s*(ext|x|ext.)\\s*(\\d{2,5}))? # extension\n",
    "    )''', re.VERBOSE)"
   ]
  },
  {
   "cell_type": "code",
   "execution_count": null,
   "metadata": {},
   "outputs": [],
   "source": []
  },
  {
   "cell_type": "code",
   "execution_count": null,
   "metadata": {},
   "outputs": [],
   "source": []
  },
  {
   "cell_type": "code",
   "execution_count": null,
   "metadata": {},
   "outputs": [],
   "source": []
  },
  {
   "cell_type": "code",
   "execution_count": null,
   "metadata": {},
   "outputs": [],
   "source": []
  },
  {
   "cell_type": "code",
   "execution_count": null,
   "metadata": {},
   "outputs": [],
   "source": []
  }
 ],
 "metadata": {
  "kernelspec": {
   "display_name": "Python 3 (ipykernel)",
   "language": "python",
   "name": "python3"
  },
  "language_info": {
   "codemirror_mode": {
    "name": "ipython",
    "version": 3
   },
   "file_extension": ".py",
   "mimetype": "text/x-python",
   "name": "python",
   "nbconvert_exporter": "python",
   "pygments_lexer": "ipython3",
   "version": "3.9.6"
  }
 },
 "nbformat": 4,
 "nbformat_minor": 4
}
